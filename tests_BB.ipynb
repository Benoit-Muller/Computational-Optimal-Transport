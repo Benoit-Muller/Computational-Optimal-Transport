{
 "cells": [
  {
   "cell_type": "code",
   "execution_count": 30,
   "metadata": {},
   "outputs": [],
   "source": [
    "import numpy as np\n",
    "import matplotlib.pyplot as plt\n",
    "import warnings\n",
    "from warnings import warn\n",
    "%load_ext autoreload\n",
    "%autoreload 2\n",
    "\n",
    "from BenamouBrenier import TransportProblem\n",
    "from transport import gaussian_transport, gaussian_discreatization\n",
    "\n",
    "rng = np.random.default_rng(4321)"
   ]
  },
  {
   "cell_type": "code",
   "execution_count": 43,
   "metadata": {},
   "outputs": [
    {
     "data": {
      "text/plain": [
       "(1, 2, 3, 1, 2, 3)"
      ]
     },
     "execution_count": 43,
     "metadata": {},
     "output_type": "execute_result"
    }
   ],
   "source": [
    "a=(1,2,3)\n",
    "2*a"
   ]
  },
  {
   "cell_type": "code",
   "execution_count": 34,
   "metadata": {},
   "outputs": [
    {
     "ename": "ValueError",
     "evalue": "all the input arrays must have same number of dimensions, but the array at index 0 has 3 dimension(s) and the array at index 1 has 4 dimension(s)",
     "output_type": "error",
     "traceback": [
      "\u001b[0;31m---------------------------------------------------------------------------\u001b[0m",
      "\u001b[0;31mValueError\u001b[0m                                Traceback (most recent call last)",
      "\u001b[1;32m/Users/benoitmuller/Documents/GitHub/Computational-Optimal-Transport/tests_BB.ipynb Cell 3\u001b[0m in \u001b[0;36m<cell line: 7>\u001b[0;34m()\u001b[0m\n\u001b[1;32m      <a href='vscode-notebook-cell:/Users/benoitmuller/Documents/GitHub/Computational-Optimal-Transport/tests_BB.ipynb#W2sZmlsZQ%3D%3D?line=3'>4</a>\u001b[0m nu \u001b[39m=\u001b[39m \u001b[39m2\u001b[39m\u001b[39m*\u001b[39mnp\u001b[39m.\u001b[39msum(mesh,axis\u001b[39m=\u001b[39m\u001b[39m1\u001b[39m)\n\u001b[1;32m      <a href='vscode-notebook-cell:/Users/benoitmuller/Documents/GitHub/Computational-Optimal-Transport/tests_BB.ipynb#W2sZmlsZQ%3D%3D?line=4'>5</a>\u001b[0m T \u001b[39m=\u001b[39m \u001b[39m10\u001b[39m\n\u001b[0;32m----> <a href='vscode-notebook-cell:/Users/benoitmuller/Documents/GitHub/Computational-Optimal-Transport/tests_BB.ipynb#W2sZmlsZQ%3D%3D?line=6'>7</a>\u001b[0m prob1 \u001b[39m=\u001b[39m TransportProblem(mesh,mu,nu,T)\n\u001b[1;32m      <a href='vscode-notebook-cell:/Users/benoitmuller/Documents/GitHub/Computational-Optimal-Transport/tests_BB.ipynb#W2sZmlsZQ%3D%3D?line=7'>8</a>\u001b[0m \u001b[39mprint\u001b[39m(prob1)\n",
      "File \u001b[0;32m~/Documents/GitHub/Computational-Optimal-Transport/BenamouBrenier.py:17\u001b[0m, in \u001b[0;36m__init__\u001b[0;34m(self, mesh, mu, nu, T)\u001b[0m\n\u001b[1;32m     15\u001b[0m self.rho = (1-self.times)*mu[...,np.newaxis] + self.times*nu[...,np.newaxis] # space-time density\n\u001b[1;32m     16\u001b[0m self.m = np.zeros((self.d,) + mesh.shape + (T,)) # space time vector field\n\u001b[0;32m---> 17\u001b[0m self.M = np.concatenate((self.rho[np.newaxis,...],self.m)) # the target unknown\n\u001b[1;32m     18\u001b[0m \n\u001b[1;32m     19\u001b[0m self.phi = np.zeros( mesh.shape + (T,)) # test function, wasserstein potential\n",
      "File \u001b[0;32m<__array_function__ internals>:5\u001b[0m, in \u001b[0;36mconcatenate\u001b[0;34m(*args, **kwargs)\u001b[0m\n",
      "\u001b[0;31mValueError\u001b[0m: all the input arrays must have same number of dimensions, but the array at index 0 has 3 dimension(s) and the array at index 1 has 4 dimension(s)"
     ]
    }
   ],
   "source": [
    "N=5\n",
    "mesh= np.random.randn(N,2)\n",
    "mu = np.sum(mesh,axis=1)**2\n",
    "nu = 2*np.sum(mesh,axis=1)\n",
    "T = 10\n",
    "\n",
    "prob1 = TransportProblem(mesh,mu,nu,T)\n",
    "print(prob1)"
   ]
  }
 ],
 "metadata": {
  "kernelspec": {
   "display_name": "base",
   "language": "python",
   "name": "python3"
  },
  "language_info": {
   "codemirror_mode": {
    "name": "ipython",
    "version": 3
   },
   "file_extension": ".py",
   "mimetype": "text/x-python",
   "name": "python",
   "nbconvert_exporter": "python",
   "pygments_lexer": "ipython3",
   "version": "3.9.12"
  },
  "orig_nbformat": 4
 },
 "nbformat": 4,
 "nbformat_minor": 2
}

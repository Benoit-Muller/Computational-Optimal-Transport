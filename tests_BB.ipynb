{
 "cells": [
  {
   "attachments": {},
   "cell_type": "markdown",
   "metadata": {},
   "source": [
    "# Use: Tests of `BenamouBrenier.py`"
   ]
  },
  {
   "cell_type": "code",
   "execution_count": 35,
   "metadata": {},
   "outputs": [
    {
     "name": "stdout",
     "output_type": "stream",
     "text": [
      "The autoreload extension is already loaded. To reload it, use:\n",
      "  %reload_ext autoreload\n"
     ]
    }
   ],
   "source": [
    "import numpy as np\n",
    "import matplotlib.pyplot as plt\n",
    "import warnings\n",
    "from warnings import warn\n",
    "%load_ext autoreload\n",
    "%autoreload 2\n",
    "\n",
    "from BenamouBrenier import TransportProblem\n",
    "from transport import gaussian_transport, gaussian_discreatization\n",
    "\n",
    "rng = np.random.default_rng(4321)"
   ]
  },
  {
   "cell_type": "code",
   "execution_count": 37,
   "metadata": {},
   "outputs": [
    {
     "name": "stdout",
     "output_type": "stream",
     "text": [
      "Projection step converged to tolerance.\n",
      "Dual step done.\n"
     ]
    }
   ],
   "source": [
    "N=5\n",
    "mesh= np.random.randn(2,N,N)\n",
    "mu = np.random.randn(N,N)\n",
    "nu = np.random.randn(N,N)\n",
    "T = 10\n",
    "\n",
    "prob1 = TransportProblem(mesh,mu,nu,T)\n",
    "prob1.projection_step()\n",
    "prob1.dual_step()"
   ]
  },
  {
   "attachments": {},
   "cell_type": "markdown",
   "metadata": {},
   "source": [
    "## Todo\n",
    "- check if code works for 1D ndarray with/without empty dimensions\n",
    "- Use a package to compute poisson equation\n",
    "\n",
    "## Remarks\n",
    "- **Projection Step**:\n",
    "    - Analytic solution complicated and numerically instable. reduce the problem to 1D (grid-wise), and use Newton method to solve the polynomial equation of orthogonality. [Algorithms for projecting points onto conics](https://www.sciencedirect.com/science/article/pii/S0377042713001398#s000005)\n",
    "    - choice of the initial point ([desmos graphic](https://www.desmos.com/calculator/nj6gcjfbaq)) to get the right zero.\n",
    "- **Dual Step**: easy\n",
    "- **Poisson Step**:\n",
    "    - first order condition by calculus of variations, how to do it, and leads to weak poisson equation.\n",
    "    - border conditions\n",
    "    - https://fenicsproject.org can solve poisson equation, see [demo_poisson](https://docs.fenicsproject.org/dolfinx/v0.6.0/python/demos/demo_poisson.html)\n",
    "- What is the Domain $\\Omega\\subset\\mathbb{R}^d$, should contain the support of $\\mu$ and $\\nu$?\n",
    "- gaussian transport\n",
    "    - restrict to an ellipsis support of $\\mu$ and renormalise (polar coord and 1D normal distribution)\n",
    "    - the transport map is still optimal and lead to an ellipsis support, and is still optimal."
   ]
  }
 ],
 "metadata": {
  "kernelspec": {
   "display_name": "base",
   "language": "python",
   "name": "python3"
  },
  "language_info": {
   "codemirror_mode": {
    "name": "ipython",
    "version": 3
   },
   "file_extension": ".py",
   "mimetype": "text/x-python",
   "name": "python",
   "nbconvert_exporter": "python",
   "pygments_lexer": "ipython3",
   "version": "3.9.12"
  },
  "orig_nbformat": 4
 },
 "nbformat": 4,
 "nbformat_minor": 2
}

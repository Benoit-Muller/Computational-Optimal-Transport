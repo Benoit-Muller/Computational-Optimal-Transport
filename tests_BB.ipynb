{
 "cells": [
  {
   "attachments": {},
   "cell_type": "markdown",
   "metadata": {},
   "source": [
    "# Use: Tests of `BenamouBrenier.py`"
   ]
  },
  {
   "cell_type": "code",
   "execution_count": 1,
   "metadata": {},
   "outputs": [],
   "source": [
    "import numpy as np\n",
    "import scipy as sp\n",
    "import matplotlib.pyplot as plt\n",
    "import warnings\n",
    "from warnings import warn\n",
    "from tqdm.notebook import tqdm,trange # to display loading bars\n",
    "%load_ext autoreload\n",
    "%autoreload 2\n",
    "\n",
    "from BenamouBrenier import TransportProblem\n",
    "from transport import gaussian_transport, gaussian_discreatization, random_gaussian_parameters"
   ]
  },
  {
   "cell_type": "code",
   "execution_count": 2,
   "metadata": {},
   "outputs": [
    {
     "name": "stdout",
     "output_type": "stream",
     "text": [
      "TransportProblem object initialized.\n",
      "Using matplotlib backend: <object object at 0x7fe2201e5730>\n"
     ]
    }
   ],
   "source": [
    "rng = np.random.default_rng(123)\n",
    "from scipy.stats import multivariate_normal\n",
    "from matplotlib.widgets import Slider\n",
    "N=32\n",
    "T=32\n",
    "mesh= np.array(np.meshgrid(np.linspace(-5,5,N),np.linspace(-5,5,N)))\n",
    "\n",
    "mean1, cov1 = random_gaussian_parameters(2,rng)\n",
    "mean2, cov2 = random_gaussian_parameters(2,rng)\n",
    "\n",
    "mu,nu = np.empty((N,N)),np.empty((N,N))\n",
    "for idx in np.ndindex((N,N)):\n",
    "    mu[idx] = multivariate_normal.pdf(mesh[(...,*idx)], mean1, cov1)\n",
    "    nu[idx] = multivariate_normal.pdf(mesh[(...,*idx)], mean2, cov2)\n",
    "\n",
    "prob1 = TransportProblem(mesh,mu,nu,T)\n",
    "%matplotlib\n",
    "prob1.plot()\n",
    "%matplotlib inline\n",
    "#rob1.projection_step()\n",
    "#prob1.dual_step()"
   ]
  },
  {
   "attachments": {},
   "cell_type": "markdown",
   "metadata": {},
   "source": [
    "## Todo\n",
    "- check if code works for 1D ndarray with/without empty dimensions\n",
    "- Use a package to compute poisson equation\n",
    "\n",
    "## Remarks\n",
    "- **Projection Step**:\n",
    "    - Analytic solution complicated and numerically instable. reduce the problem to 1D (grid-wise), and use Newton method to solve the polynomial equation of orthogonality. [Algorithms for projecting points onto conics](https://www.sciencedirect.com/science/article/pii/S0377042713001398#s000005)\n",
    "    - choice of the initial point ([desmos graphic](https://www.desmos.com/calculator/nj6gcjfbaq)) to get the right zero.\n",
    "- **Dual Step**: easy\n",
    "- **Poisson Step**:\n",
    "    - first order condition by calculus of variations, how to do it, and leads to weak poisson equation.\n",
    "    - border conditions\n",
    "    - https://fenicsproject.org can solve poisson equation, see [demo_poisson](https://docs.fenicsproject.org/dolfinx/v0.6.0/python/demos/demo_poisson.html)\n",
    "- What is the Domain $\\Omega\\subset\\mathbb{R}^d$, should contain the support of $\\mu$ and $\\nu$?\n",
    "- gaussian transport\n",
    "    - restrict to an ellipsis support of $\\mu$ and renormalise (polar coord and 1D normal distribution)\n",
    "    - the transport map is still optimal and lead to an ellipsis support, and is still optimal."
   ]
  },
  {
   "cell_type": "code",
   "execution_count": 3,
   "metadata": {},
   "outputs": [
    {
     "name": "stdout",
     "output_type": "stream",
     "text": [
      "Using matplotlib backend: MacOSX\n"
     ]
    }
   ],
   "source": [
    "%matplotlib\n",
    "import numpy as np\n",
    "import matplotlib.pyplot as plt\n",
    "from matplotlib import cm\n",
    "from matplotlib.widgets import Slider\n",
    "\n",
    "\n",
    "fig, (ax1,ax2) = plt.subplots(2)\n",
    "\n",
    "s = Slider(ax = ax2, label = 'value', valmin = 0, valmax = N-1, valinit = 0)\n",
    "\n",
    "def update(val):\n",
    "    value=int(s.val)\n",
    "    ax1.cla()\n",
    "    ax1.contour(prob1.rho[value])\n",
    "\n",
    "s.on_changed(update)\n",
    "update(0)\n",
    "\n",
    "plt.show()"
   ]
  }
 ],
 "metadata": {
  "kernelspec": {
   "display_name": "base",
   "language": "python",
   "name": "python3"
  },
  "language_info": {
   "codemirror_mode": {
    "name": "ipython",
    "version": 3
   },
   "file_extension": ".py",
   "mimetype": "text/x-python",
   "name": "python",
   "nbconvert_exporter": "python",
   "pygments_lexer": "ipython3",
   "version": "3.9.12"
  },
  "orig_nbformat": 4
 },
 "nbformat": 4,
 "nbformat_minor": 2
}

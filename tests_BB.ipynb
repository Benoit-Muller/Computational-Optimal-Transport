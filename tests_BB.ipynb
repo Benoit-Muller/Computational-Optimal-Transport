{
 "cells": [
  {
   "attachments": {},
   "cell_type": "markdown",
   "metadata": {},
   "source": [
    "# Use: Tests of `BenamouBrenier.py`"
   ]
  },
  {
   "cell_type": "code",
   "execution_count": 38,
   "metadata": {},
   "outputs": [
    {
     "name": "stdout",
     "output_type": "stream",
     "text": [
      "The autoreload extension is already loaded. To reload it, use:\n",
      "  %reload_ext autoreload\n"
     ]
    }
   ],
   "source": [
    "import numpy as np\n",
    "import matplotlib.pyplot as plt\n",
    "import warnings\n",
    "from warnings import warn\n",
    "from tqdm.notebook import tqdm,trange # to display loading bars\n",
    "%load_ext autoreload\n",
    "%autoreload 2\n",
    "\n",
    "from BenamouBrenier import TransportProblem\n",
    "from transport import gaussian_transport, gaussian_discreatization\n",
    "\n",
    "rng = np.random.default_rng(4321)"
   ]
  },
  {
   "cell_type": "code",
   "execution_count": 54,
   "metadata": {},
   "outputs": [
    {
     "data": {
      "application/vnd.jupyter.widget-view+json": {
       "model_id": "ad3c3451bd1a4b4a869f85ccbfd491a2",
       "version_major": 2,
       "version_minor": 0
      },
      "text/plain": [
       "  0%|          | 0/100000 [00:00<?, ?it/s]"
      ]
     },
     "metadata": {},
     "output_type": "display_data"
    },
    {
     "name": "stderr",
     "output_type": "stream",
     "text": [
      "/Users/benoitmuller/Documents/GitHub/Computational-Optimal-Transport/BenamouBrenier.py:93: UserWarning: Max number of iterations reached in Newton's method.\n",
      "  warn(\"Max number of iterations reached in Newton's method.\")\n"
     ]
    },
    {
     "ename": "KeyboardInterrupt",
     "evalue": "",
     "output_type": "error",
     "traceback": [
      "\u001b[0;31m---------------------------------------------------------------------------\u001b[0m",
      "\u001b[0;31mKeyboardInterrupt\u001b[0m                         Traceback (most recent call last)",
      "\u001b[1;32m/Users/benoitmuller/Documents/GitHub/Computational-Optimal-Transport/tests_BB.ipynb Cell 3\u001b[0m in \u001b[0;36m<cell line: 8>\u001b[0;34m()\u001b[0m\n\u001b[1;32m      <a href='vscode-notebook-cell:/Users/benoitmuller/Documents/GitHub/Computational-Optimal-Transport/tests_BB.ipynb#W2sZmlsZQ%3D%3D?line=4'>5</a>\u001b[0m T \u001b[39m=\u001b[39m \u001b[39m10\u001b[39m\n\u001b[1;32m      <a href='vscode-notebook-cell:/Users/benoitmuller/Documents/GitHub/Computational-Optimal-Transport/tests_BB.ipynb#W2sZmlsZQ%3D%3D?line=6'>7</a>\u001b[0m prob1 \u001b[39m=\u001b[39m TransportProblem(mesh,mu,nu,T)\n\u001b[0;32m----> <a href='vscode-notebook-cell:/Users/benoitmuller/Documents/GitHub/Computational-Optimal-Transport/tests_BB.ipynb#W2sZmlsZQ%3D%3D?line=7'>8</a>\u001b[0m prob1\u001b[39m.\u001b[39;49mprojection_step()\n\u001b[1;32m      <a href='vscode-notebook-cell:/Users/benoitmuller/Documents/GitHub/Computational-Optimal-Transport/tests_BB.ipynb#W2sZmlsZQ%3D%3D?line=8'>9</a>\u001b[0m prob1\u001b[39m.\u001b[39mdual_step()\n",
      "File \u001b[0;32m~/Documents/GitHub/Computational-Optimal-Transport/BenamouBrenier.py:96\u001b[0m, in \u001b[0;36mTransportProblem.projection_step\u001b[0;34m(self)\u001b[0m\n\u001b[1;32m     94\u001b[0m \u001b[39m# Update a and b\u001b[39;00m\n\u001b[1;32m     95\u001b[0m \u001b[39mself\u001b[39m\u001b[39m.\u001b[39ma[index] \u001b[39m=\u001b[39m alpha \u001b[39m-\u001b[39m \u001b[39m1\u001b[39m\u001b[39m/\u001b[39m\u001b[39m2\u001b[39m\u001b[39m*\u001b[39mt \u001b[39m# update a\u001b[39;00m\n\u001b[0;32m---> 96\u001b[0m \u001b[39mself\u001b[39m\u001b[39m.\u001b[39mb[(\u001b[39m.\u001b[39m\u001b[39m.\u001b[39m\u001b[39m.\u001b[39m,\u001b[39m*\u001b[39mindex)] \u001b[39m=\u001b[39m alpha_beta[\u001b[39m1\u001b[39;49m:][(\u001b[39m.\u001b[39;49m\u001b[39m.\u001b[39;49m\u001b[39m.\u001b[39;49m,\u001b[39m*\u001b[39;49mindex)]\u001b[39m/\u001b[39;49m(\u001b[39m1\u001b[39;49m\u001b[39m/\u001b[39;49m\u001b[39m2\u001b[39;49m\u001b[39m*\u001b[39;49mt\u001b[39m+\u001b[39;49m\u001b[39m1\u001b[39;49m) \u001b[39m# update b\u001b[39;00m\n\u001b[1;32m     97\u001b[0m \u001b[39mself\u001b[39m\u001b[39m.\u001b[39mupdate_c()\n\u001b[1;32m     98\u001b[0m \u001b[39massert\u001b[39;00m \u001b[39mself\u001b[39m\u001b[39m.\u001b[39ma[index] \u001b[39m+\u001b[39m \u001b[39m1\u001b[39m\u001b[39m/\u001b[39m\u001b[39m2\u001b[39m\u001b[39m*\u001b[39mnp\u001b[39m.\u001b[39msum(alpha_beta[\u001b[39m1\u001b[39m:][(\u001b[39m.\u001b[39m\u001b[39m.\u001b[39m\u001b[39m.\u001b[39m,\u001b[39m*\u001b[39mindex)]\u001b[39m*\u001b[39m\u001b[39m*\u001b[39m\u001b[39m2\u001b[39m, axis\u001b[39m=\u001b[39m\u001b[39m0\u001b[39m) \u001b[39m<\u001b[39m\u001b[39m=\u001b[39m \u001b[39m0\u001b[39m \u001b[39m+\u001b[39m tol\n",
      "\u001b[0;31mKeyboardInterrupt\u001b[0m: "
     ]
    }
   ],
   "source": [
    "N=100\n",
    "mesh= np.random.randn(2,N,N)\n",
    "mu = np.random.randn(N,N)\n",
    "nu = np.random.randn(N,N)\n",
    "T = 10\n",
    "\n",
    "prob1 = TransportProblem(mesh,mu,nu,T)\n",
    "prob1.projection_step()\n",
    "prob1.dual_step()"
   ]
  },
  {
   "attachments": {},
   "cell_type": "markdown",
   "metadata": {},
   "source": [
    "## Test Py-PDE"
   ]
  },
  {
   "cell_type": "code",
   "execution_count": 37,
   "metadata": {},
   "outputs": [
    {
     "ename": "NotImplementedError",
     "evalue": "3-dimensional Laplace matrix not implemented",
     "output_type": "error",
     "traceback": [
      "\u001b[0;31m---------------------------------------------------------------------------\u001b[0m",
      "\u001b[0;31mNotImplementedError\u001b[0m                       Traceback (most recent call last)",
      "\u001b[1;32m/Users/benoitmuller/Documents/GitHub/Computational-Optimal-Transport/tests_BB.ipynb Cell 5\u001b[0m in \u001b[0;36m<cell line: 8>\u001b[0;34m()\u001b[0m\n\u001b[1;32m      <a href='vscode-notebook-cell:/Users/benoitmuller/Documents/GitHub/Computational-Optimal-Transport/tests_BB.ipynb#X10sZmlsZQ%3D%3D?line=5'>6</a>\u001b[0m grid \u001b[39m=\u001b[39m pde\u001b[39m.\u001b[39mCartesianGrid([[\u001b[39m0\u001b[39m, \u001b[39m1\u001b[39m], [\u001b[39m0\u001b[39m, \u001b[39m1\u001b[39m],[\u001b[39m0\u001b[39m,\u001b[39m1\u001b[39m]], shape\u001b[39m=\u001b[39m(n, n,n), periodic\u001b[39m=\u001b[39m[\u001b[39mTrue\u001b[39;00m, \u001b[39mTrue\u001b[39;00m, \u001b[39mTrue\u001b[39;00m])\n\u001b[1;32m      <a href='vscode-notebook-cell:/Users/benoitmuller/Documents/GitHub/Computational-Optimal-Transport/tests_BB.ipynb#X10sZmlsZQ%3D%3D?line=6'>7</a>\u001b[0m field \u001b[39m=\u001b[39m ScalarField(grid, f)\n\u001b[0;32m----> <a href='vscode-notebook-cell:/Users/benoitmuller/Documents/GitHub/Computational-Optimal-Transport/tests_BB.ipynb#X10sZmlsZQ%3D%3D?line=7'>8</a>\u001b[0m result \u001b[39m=\u001b[39m solve_poisson_equation(field, bc\u001b[39m=\u001b[39;49m[\u001b[39m\"\u001b[39;49m\u001b[39mperiodic\u001b[39;49m\u001b[39m\"\u001b[39;49m, \u001b[39m\"\u001b[39;49m\u001b[39mperiodic\u001b[39;49m\u001b[39m\"\u001b[39;49m, \u001b[39m\"\u001b[39;49m\u001b[39mperiodic\u001b[39;49m\u001b[39m\"\u001b[39;49m])\n\u001b[1;32m     <a href='vscode-notebook-cell:/Users/benoitmuller/Documents/GitHub/Computational-Optimal-Transport/tests_BB.ipynb#X10sZmlsZQ%3D%3D?line=9'>10</a>\u001b[0m result\u001b[39m.\u001b[39mplot()\n",
      "File \u001b[0;32m~/opt/anaconda3/lib/python3.9/site-packages/pde/pdes/laplace.py:61\u001b[0m, in \u001b[0;36msolve_poisson_equation\u001b[0;34m(rhs, bc, label, **kwargs)\u001b[0m\n\u001b[1;32m     59\u001b[0m bcs \u001b[39m=\u001b[39m rhs\u001b[39m.\u001b[39mgrid\u001b[39m.\u001b[39mget_boundary_conditions(bc)\n\u001b[1;32m     60\u001b[0m \u001b[39m# get the actual solver\u001b[39;00m\n\u001b[0;32m---> 61\u001b[0m solver \u001b[39m=\u001b[39m operator\u001b[39m.\u001b[39;49mfactory(bcs\u001b[39m=\u001b[39;49mbcs, \u001b[39m*\u001b[39;49m\u001b[39m*\u001b[39;49mkwargs)\n\u001b[1;32m     63\u001b[0m \u001b[39m# solve the poisson problem\u001b[39;00m\n\u001b[1;32m     64\u001b[0m result \u001b[39m=\u001b[39m ScalarField(rhs\u001b[39m.\u001b[39mgrid, label\u001b[39m=\u001b[39mlabel)\n",
      "File \u001b[0;32m~/opt/anaconda3/lib/python3.9/site-packages/pde/grids/operators/cartesian.py:1086\u001b[0m, in \u001b[0;36mmake_poisson_solver\u001b[0;34m(bcs, method)\u001b[0m\n\u001b[1;32m   1072\u001b[0m \u001b[39m@CartesianGrid\u001b[39m\u001b[39m.\u001b[39mregister_operator(\u001b[39m\"\u001b[39m\u001b[39mpoisson_solver\u001b[39m\u001b[39m\"\u001b[39m, rank_in\u001b[39m=\u001b[39m\u001b[39m0\u001b[39m, rank_out\u001b[39m=\u001b[39m\u001b[39m0\u001b[39m)\n\u001b[1;32m   1073\u001b[0m \u001b[39mdef\u001b[39;00m \u001b[39mmake_poisson_solver\u001b[39m(bcs: Boundaries, method: \u001b[39mstr\u001b[39m \u001b[39m=\u001b[39m \u001b[39m\"\u001b[39m\u001b[39mauto\u001b[39m\u001b[39m\"\u001b[39m) \u001b[39m-\u001b[39m\u001b[39m>\u001b[39m OperatorType:\n\u001b[1;32m   1074\u001b[0m     \u001b[39m\"\"\"make a operator that solves Poisson's equation\u001b[39;00m\n\u001b[1;32m   1075\u001b[0m \n\u001b[1;32m   1076\u001b[0m \u001b[39m    Args:\u001b[39;00m\n\u001b[0;32m   (...)\u001b[0m\n\u001b[1;32m   1084\u001b[0m \u001b[39m        A function that can be applied to an array of values\u001b[39;00m\n\u001b[1;32m   1085\u001b[0m \u001b[39m    \"\"\"\u001b[39;00m\n\u001b[0;32m-> 1086\u001b[0m     matrix, vector \u001b[39m=\u001b[39m _get_laplace_matrix(bcs)\n\u001b[1;32m   1087\u001b[0m     \u001b[39mreturn\u001b[39;00m make_general_poisson_solver(matrix, vector, method)\n",
      "File \u001b[0;32m~/opt/anaconda3/lib/python3.9/site-packages/pde/grids/operators/cartesian.py:161\u001b[0m, in \u001b[0;36m_get_laplace_matrix\u001b[0;34m(bcs)\u001b[0m\n\u001b[1;32m    159\u001b[0m     result \u001b[39m=\u001b[39m _get_laplace_matrix_2d(bcs)\n\u001b[1;32m    160\u001b[0m \u001b[39melse\u001b[39;00m:\n\u001b[0;32m--> 161\u001b[0m     \u001b[39mraise\u001b[39;00m \u001b[39mNotImplementedError\u001b[39;00m(\u001b[39mf\u001b[39m\u001b[39m\"\u001b[39m\u001b[39m{\u001b[39;00mdim\u001b[39m:\u001b[39;00m\u001b[39md\u001b[39m\u001b[39m}\u001b[39;00m\u001b[39m-dimensional Laplace matrix not implemented\u001b[39m\u001b[39m\"\u001b[39m)\n\u001b[1;32m    163\u001b[0m \u001b[39mreturn\u001b[39;00m result\n",
      "\u001b[0;31mNotImplementedError\u001b[0m: 3-dimensional Laplace matrix not implemented"
     ]
    }
   ],
   "source": [
    "\n",
    "import pde\n",
    "from pde import CartesianGrid, ScalarField, solve_poisson_equation, PDE\n",
    "n=100\n",
    "f = rng.normal(size=(n,n,n))\n",
    "f = f - np.mean(f)\n",
    "grid = pde.CartesianGrid([[0, 1], [0, 1],[0,1]], shape=(n, n,n), periodic=[True, True, True])\n",
    "field = ScalarField(grid, f)\n",
    "eq = PDE({\"phi\": \"-gradient_squared(u) / 2 - laplace(u + laplace(u))\"}) \n",
    "result = solve_poisson_equation(field, bc=[\"periodic\", \"periodic\", \"periodic\"])\n",
    "\n",
    "result.plot()"
   ]
  },
  {
   "attachments": {},
   "cell_type": "markdown",
   "metadata": {},
   "source": [
    "## Todo\n",
    "- check if code works for 1D ndarray with/without empty dimensions\n",
    "- Use a package to compute poisson equation\n",
    "\n",
    "## Remarks\n",
    "- **Projection Step**:\n",
    "    - Analytic solution complicated and numerically instable. reduce the problem to 1D (grid-wise), and use Newton method to solve the polynomial equation of orthogonality. [Algorithms for projecting points onto conics](https://www.sciencedirect.com/science/article/pii/S0377042713001398#s000005)\n",
    "    - choice of the initial point ([desmos graphic](https://www.desmos.com/calculator/nj6gcjfbaq)) to get the right zero.\n",
    "- **Dual Step**: easy\n",
    "- **Poisson Step**:\n",
    "    - first order condition by calculus of variations, how to do it, and leads to weak poisson equation.\n",
    "    - border conditions\n",
    "    - https://fenicsproject.org can solve poisson equation, see [demo_poisson](https://docs.fenicsproject.org/dolfinx/v0.6.0/python/demos/demo_poisson.html)\n",
    "- What is the Domain $\\Omega\\subset\\mathbb{R}^d$, should contain the support of $\\mu$ and $\\nu$?\n",
    "- gaussian transport\n",
    "    - restrict to an ellipsis support of $\\mu$ and renormalise (polar coord and 1D normal distribution)\n",
    "    - the transport map is still optimal and lead to an ellipsis support, and is still optimal."
   ]
  }
 ],
 "metadata": {
  "kernelspec": {
   "display_name": "base",
   "language": "python",
   "name": "python3"
  },
  "language_info": {
   "codemirror_mode": {
    "name": "ipython",
    "version": 3
   },
   "file_extension": ".py",
   "mimetype": "text/x-python",
   "name": "python",
   "nbconvert_exporter": "python",
   "pygments_lexer": "ipython3",
   "version": "3.9.12"
  },
  "orig_nbformat": 4
 },
 "nbformat": 4,
 "nbformat_minor": 2
}

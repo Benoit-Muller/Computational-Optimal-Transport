{
 "cells": [
  {
   "attachments": {},
   "cell_type": "markdown",
   "metadata": {},
   "source": [
    "# Use\n",
    "This notebook will be used to tests the functions of the python files"
   ]
  },
  {
   "cell_type": "code",
   "execution_count": 118,
   "metadata": {},
   "outputs": [
    {
     "name": "stdout",
     "output_type": "stream",
     "text": [
      "The autoreload extension is already loaded. To reload it, use:\n",
      "  %reload_ext autoreload\n"
     ]
    }
   ],
   "source": [
    "import numpy as np\n",
    "import matplotlib.pyplot as plt\n",
    "import warnings\n",
    "\n",
    "%load_ext autoreload\n",
    "%autoreload 2\n",
    "\n",
    "from hungarian import preprocess, alternate, hungarian, hungarian3, augment\n",
    "from transport import gaussian_transport, gaussian_discreatization\n",
    "\n",
    "rng = np.random.default_rng(4321)"
   ]
  },
  {
   "cell_type": "code",
   "execution_count": 111,
   "metadata": {},
   "outputs": [],
   "source": [
    "from warnings import warn"
   ]
  },
  {
   "attachments": {},
   "cell_type": "markdown",
   "metadata": {},
   "source": [
    "# `hungarian.py`\n",
    "## `preprocess(C)`"
   ]
  },
  {
   "cell_type": "code",
   "execution_count": 112,
   "metadata": {},
   "outputs": [
    {
     "name": "stdout",
     "output_type": "stream",
     "text": [
      "[[0.36856808 0.         0.         0.03370433]\n",
      " [0.62630378 0.4918678  0.48321611 0.        ]\n",
      " [0.01827113 0.03172618 0.21937152 0.        ]\n",
      " [0.         0.15973672 0.52130587 0.72149736]] \n",
      " [[False  True False False]\n",
      " [False False False  True]\n",
      " [False False False False]\n",
      " [ True False False False]]\n"
     ]
    }
   ],
   "source": [
    "n=4\n",
    "C = np.random.random(size=(n,n))\n",
    "n,U,V,row,x = preprocess(C)\n",
    "print(C-U[:,np.newaxis]-V,\"\\n\",x)"
   ]
  },
  {
   "cell_type": "code",
   "execution_count": 113,
   "metadata": {},
   "outputs": [
    {
     "name": "stdout",
     "output_type": "stream",
     "text": [
      "[[0 0 1 2]\n",
      " [0 4 3 5]\n",
      " [0 3 5 8]\n",
      " [1 2 0 0]] [0 None 3 None] [7 2 1 2] [0 2 0 0] \n",
      " [[ True False False False]\n",
      " [False False False False]\n",
      " [False False False False]\n",
      " [False False  True False]]\n"
     ]
    }
   ],
   "source": [
    "# Exemple 4.3\n",
    "n=4\n",
    "C = np.array([[7,9,8,9],\n",
    "              [2,8,5,7],\n",
    "              [1,6,6,9],\n",
    "              [3,6,2,2]])\n",
    "n,U,V,row,x = preprocess(C)\n",
    "print(C-U[:,np.newaxis] - V, row, U, V,\"\\n\", x)"
   ]
  },
  {
   "attachments": {},
   "cell_type": "markdown",
   "metadata": {},
   "source": [
    "seem ok\n",
    "- The zero entries match the True entries\n",
    "- Internal assertions satisfied\n",
    "- Same results as exemple 4.3\n",
    "## `alternate(C,U,V,row,k)`"
   ]
  },
  {
   "cell_type": "code",
   "execution_count": 114,
   "metadata": {},
   "outputs": [
    {
     "name": "stdout",
     "output_type": "stream",
     "text": [
      "[2 1 0 None]\n",
      "3 [None None 3 0] [ True False False  True] [False False  True  True]\n",
      "[[2 4 0 0]\n",
      " [8 0 0 0]\n",
      " [0 2 6 2]\n",
      " [2 5 0 2]]\n"
     ]
    }
   ],
   "source": [
    "n=4\n",
    "C = np.random.randint(10,size=(n,n))\n",
    "n,U,V,row,x = preprocess(C)\n",
    "k=n-1\n",
    "if np.any(row==k):\n",
    "     print(\"Invalid candidate k, try again\")\n",
    "else:\n",
    "    sink,pred,SU,LV = alternate(C,U,V,row,k)\n",
    "    print(row)\n",
    "    print(sink,pred,SU,LV)\n",
    "    print(C-U[:,np.newaxis]-V)"
   ]
  },
  {
   "cell_type": "code",
   "execution_count": 115,
   "metadata": {},
   "outputs": [
    {
     "name": "stdout",
     "output_type": "stream",
     "text": [
      "1 [1 0 None None]\n"
     ]
    }
   ],
   "source": [
    "# Exemple 4.3\n",
    "n=4\n",
    "C = np.array([[7,9,8,9],\n",
    "              [2,8,6,7],\n",
    "              [1,6,6,9],\n",
    "              [3,6,2,2]])\n",
    "n,U,V,row,x = preprocess(C)\n",
    "k=1\n",
    "sink,pred,SU,LV = alternate(C,U,V,row,k)\n",
    "print(sink,pred)"
   ]
  },
  {
   "attachments": {},
   "cell_type": "markdown",
   "metadata": {},
   "source": [
    "## `hungarian(C)`"
   ]
  },
  {
   "cell_type": "code",
   "execution_count": 116,
   "metadata": {},
   "outputs": [
    {
     "name": "stdout",
     "output_type": "stream",
     "text": [
      "Unexpected exception formatting exception. Falling back to standard exception\n"
     ]
    },
    {
     "name": "stderr",
     "output_type": "stream",
     "text": [
      "Traceback (most recent call last):\n",
      "  File \"/Users/benoitmuller/opt/anaconda3/lib/python3.9/site-packages/IPython/core/interactiveshell.py\", line 3369, in run_code\n",
      "    exec(code_obj, self.user_global_ns, self.user_ns)\n",
      "  File \"/var/folders/4p/dkkns1r90jngnrbymzmfpw840000gn/T/ipykernel_12589/3230891100.py\", line 7, in <cell line: 7>\n",
      "    row,x,phi,U,V,W = hungarian3(C)\n",
      "  File \"/Users/benoitmuller/Documents/EPFL/Computational-Optimal-Transport/hungarian.py\", line 186, in hungarian3\n",
      "    phi[i],j = j,phi[i]\n",
      "KeyboardInterrupt\n",
      "\n",
      "During handling of the above exception, another exception occurred:\n",
      "\n",
      "Traceback (most recent call last):\n",
      "  File \"/Users/benoitmuller/opt/anaconda3/lib/python3.9/site-packages/IPython/core/interactiveshell.py\", line 1982, in showtraceback\n",
      "    stb = self.InteractiveTB.structured_traceback(\n",
      "  File \"/Users/benoitmuller/opt/anaconda3/lib/python3.9/site-packages/IPython/core/ultratb.py\", line 1118, in structured_traceback\n",
      "    return FormattedTB.structured_traceback(\n",
      "  File \"/Users/benoitmuller/opt/anaconda3/lib/python3.9/site-packages/IPython/core/ultratb.py\", line 1012, in structured_traceback\n",
      "    return VerboseTB.structured_traceback(\n",
      "  File \"/Users/benoitmuller/opt/anaconda3/lib/python3.9/site-packages/IPython/core/ultratb.py\", line 865, in structured_traceback\n",
      "    formatted_exception = self.format_exception_as_a_whole(etype, evalue, etb, number_of_lines_of_context,\n",
      "  File \"/Users/benoitmuller/opt/anaconda3/lib/python3.9/site-packages/IPython/core/ultratb.py\", line 818, in format_exception_as_a_whole\n",
      "    frames.append(self.format_record(r))\n",
      "  File \"/Users/benoitmuller/opt/anaconda3/lib/python3.9/site-packages/IPython/core/ultratb.py\", line 736, in format_record\n",
      "    result += ''.join(_format_traceback_lines(frame_info.lines, Colors, self.has_colors, lvals))\n",
      "  File \"/Users/benoitmuller/opt/anaconda3/lib/python3.9/site-packages/stack_data/utils.py\", line 145, in cached_property_wrapper\n",
      "    value = obj.__dict__[self.func.__name__] = self.func(obj)\n",
      "  File \"/Users/benoitmuller/opt/anaconda3/lib/python3.9/site-packages/stack_data/core.py\", line 698, in lines\n",
      "    pieces = self.included_pieces\n",
      "  File \"/Users/benoitmuller/opt/anaconda3/lib/python3.9/site-packages/stack_data/utils.py\", line 145, in cached_property_wrapper\n",
      "    value = obj.__dict__[self.func.__name__] = self.func(obj)\n",
      "  File \"/Users/benoitmuller/opt/anaconda3/lib/python3.9/site-packages/stack_data/core.py\", line 649, in included_pieces\n",
      "    pos = scope_pieces.index(self.executing_piece)\n",
      "  File \"/Users/benoitmuller/opt/anaconda3/lib/python3.9/site-packages/stack_data/utils.py\", line 145, in cached_property_wrapper\n",
      "    value = obj.__dict__[self.func.__name__] = self.func(obj)\n",
      "  File \"/Users/benoitmuller/opt/anaconda3/lib/python3.9/site-packages/stack_data/core.py\", line 628, in executing_piece\n",
      "    return only(\n",
      "  File \"/Users/benoitmuller/opt/anaconda3/lib/python3.9/site-packages/executing/executing.py\", line 164, in only\n",
      "    raise NotOneValueFound('Expected one value, found 0')\n",
      "executing.executing.NotOneValueFound: Expected one value, found 0\n"
     ]
    }
   ],
   "source": [
    "# Exemple 4.3\n",
    "n=4\n",
    "C = np.array([[7,9,8,9],\n",
    "              [2,8,6,7],\n",
    "              [1,6,6,9],\n",
    "              [3,6,2,2]])\n",
    "row,x,phi,U,V,W = hungarian3(C)\n",
    "print(row,phi,U,V)\n",
    "print(1*x)"
   ]
  },
  {
   "cell_type": "code",
   "execution_count": null,
   "metadata": {},
   "outputs": [
    {
     "name": "stdout",
     "output_type": "stream",
     "text": [
      "hungarian succed (feasibility and complementary slackness holds)\n",
      "[6 4 7 3 5 8 0 9 1 2] [6 8 9 3 1 4 0 2 5 7] [1 1 4 0 1 0 0 4 5 1] [ 0  0  0  0  1  0  1  0 -1  0]\n",
      "[[0 0 0 0 0 0 1 0 0 0]\n",
      " [0 0 0 0 0 0 0 0 1 0]\n",
      " [0 0 0 0 0 0 0 0 0 1]\n",
      " [0 0 0 1 0 0 0 0 0 0]\n",
      " [0 1 0 0 0 0 0 0 0 0]\n",
      " [0 0 0 0 1 0 0 0 0 0]\n",
      " [1 0 0 0 0 0 0 0 0 0]\n",
      " [0 0 1 0 0 0 0 0 0 0]\n",
      " [0 0 0 0 0 1 0 0 0 0]\n",
      " [0 0 0 0 0 0 0 1 0 0]]\n"
     ]
    }
   ],
   "source": [
    "# random integer\n",
    "n=10\n",
    "C = np.random.randint(0,10,(n,n))\n",
    "row,x,phi,U,V, W = hungarian(C)\n",
    "print(row,phi,U,V)\n",
    "print(1*x)"
   ]
  },
  {
   "cell_type": "code",
   "execution_count": null,
   "metadata": {},
   "outputs": [
    {
     "name": "stdout",
     "output_type": "stream",
     "text": [
      "hungarian succed (feasibility and complementary slackness holds)\n",
      "[[0.01054706 0.24504628 0.76277839 0.0345398 ]\n",
      " [0.66231447 0.90353101 0.45352086 0.8705936 ]\n",
      " [0.84658834 0.69153637 0.51450388 0.3896035 ]\n",
      " [0.01724784 0.99074631 0.8472189  0.87894342]]\n",
      "[[0.         0.         0.75223133 0.02399274]\n",
      " [0.20879361 0.21551092 0.         0.41707274]\n",
      " [0.45698484 0.06743365 0.12490038 0.        ]\n",
      " [0.         0.73899924 0.82997106 0.86169558]]\n",
      "[3 0 1 2] [1 2 3 0] [0.01054706 0.45352086 0.3896035  0.01724784] [0.         0.23449923 0.         0.        ]\n",
      "[[0 1 0 0]\n",
      " [0 0 1 0]\n",
      " [0 0 0 1]\n",
      " [1 0 0 0]]\n"
     ]
    }
   ],
   "source": [
    "# random gaussian\n",
    "n=4\n",
    "C = np.random.random(size=(n,n))\n",
    "row,x,phi,U,V,W = hungarian(C)\n",
    "print(C)\n",
    "print(C-U[:,np.newaxis]-V)\n",
    "print(row,phi,U,V)\n",
    "print(1*x)"
   ]
  },
  {
   "cell_type": "code",
   "execution_count": null,
   "metadata": {},
   "outputs": [
    {
     "name": "stdout",
     "output_type": "stream",
     "text": [
      "hungarian succed (feasibility and complementary slackness holds)\n"
     ]
    }
   ],
   "source": [
    "# random gaussian\n",
    "n=10\n",
    "d=10\n",
    "a=np.random.randn(d,n)\n",
    "b=np.random.randn(d,n)\n",
    "C = np.sum((a[:,:,np.newaxis]-b[:,np.newaxis,:])**2,axis=0)\n",
    "#print(C)\n",
    "row,x,phi,U,V,W = hungarian(C)\n",
    "#print(C-U[:,np.newaxis]-V)\n",
    "#print(row,phi,U,V)\n",
    "#print(1*x)"
   ]
  },
  {
   "attachments": {},
   "cell_type": "markdown",
   "metadata": {},
   "source": [
    "## Questions/remarks\n",
    "- We must test the **scalar equality** $u_i+v_j=c_{ij}$ multiple times, for now done with a tolerance of proximity but it's not very absolute and strong. How resolve? Solutions:\n",
    "    - Use integers by **rescaling**.(the more we rescale the slower it becomes)\n",
    "    - During the dual updating, **save the index** where the constrain is becoming active (by saving the argmin, see how to do it)\n",
    "    \n",
    "    -> it is indeed true with tolerance but wont affect the convergence of the algorithm neither the final output significantly\n",
    "\n",
    "- implementation of **sets** by **vectors**. Better by python sets?\n",
    "\n",
    "    -> we'll see, not so bad \n",
    "\n",
    "- describe the functionment of algorithm? a sketch of background?\n",
    "\n",
    "    -> yes, sketch the idea, describe the steps, invariants, stopping situation.\n",
    "\n",
    "- with floats, there is sometimes a small transgression of the dual feasibility, has been dealed by adding a tolerance `tol=1e-5`.\n",
    "\n",
    "## `augment()`"
   ]
  },
  {
   "cell_type": "code",
   "execution_count": 121,
   "metadata": {},
   "outputs": [
    {
     "name": "stdout",
     "output_type": "stream",
     "text": [
      "Unexpected exception formatting exception. Falling back to standard exception\n"
     ]
    },
    {
     "name": "stderr",
     "output_type": "stream",
     "text": [
      "Traceback (most recent call last):\n",
      "  File \"/Users/benoitmuller/opt/anaconda3/lib/python3.9/site-packages/IPython/core/interactiveshell.py\", line 3369, in run_code\n",
      "    exec(code_obj, self.user_global_ns, self.user_ns)\n",
      "  File \"/var/folders/4p/dkkns1r90jngnrbymzmfpw840000gn/T/ipykernel_12589/3459345468.py\", line 8, in <cell line: 5>\n",
      "    sink,pred,row,U,V = augment(C,U,V,row,k)\n",
      "  File \"/Users/benoitmuller/Documents/EPFL/Computational-Optimal-Transport/hungarian.py\", line 152, in augment\n",
      "    pi[V*(1-V)] = pi[V*(1-V)] - delta\n",
      "IndexError: index -42 is out of bounds for axis 0 with size 4\n",
      "\n",
      "During handling of the above exception, another exception occurred:\n",
      "\n",
      "Traceback (most recent call last):\n",
      "  File \"/Users/benoitmuller/opt/anaconda3/lib/python3.9/site-packages/IPython/core/interactiveshell.py\", line 1982, in showtraceback\n",
      "    stb = self.InteractiveTB.structured_traceback(\n",
      "  File \"/Users/benoitmuller/opt/anaconda3/lib/python3.9/site-packages/IPython/core/ultratb.py\", line 1118, in structured_traceback\n",
      "    return FormattedTB.structured_traceback(\n",
      "  File \"/Users/benoitmuller/opt/anaconda3/lib/python3.9/site-packages/IPython/core/ultratb.py\", line 1012, in structured_traceback\n",
      "    return VerboseTB.structured_traceback(\n",
      "  File \"/Users/benoitmuller/opt/anaconda3/lib/python3.9/site-packages/IPython/core/ultratb.py\", line 865, in structured_traceback\n",
      "    formatted_exception = self.format_exception_as_a_whole(etype, evalue, etb, number_of_lines_of_context,\n",
      "  File \"/Users/benoitmuller/opt/anaconda3/lib/python3.9/site-packages/IPython/core/ultratb.py\", line 818, in format_exception_as_a_whole\n",
      "    frames.append(self.format_record(r))\n",
      "  File \"/Users/benoitmuller/opt/anaconda3/lib/python3.9/site-packages/IPython/core/ultratb.py\", line 736, in format_record\n",
      "    result += ''.join(_format_traceback_lines(frame_info.lines, Colors, self.has_colors, lvals))\n",
      "  File \"/Users/benoitmuller/opt/anaconda3/lib/python3.9/site-packages/stack_data/utils.py\", line 145, in cached_property_wrapper\n",
      "    value = obj.__dict__[self.func.__name__] = self.func(obj)\n",
      "  File \"/Users/benoitmuller/opt/anaconda3/lib/python3.9/site-packages/stack_data/core.py\", line 698, in lines\n",
      "    pieces = self.included_pieces\n",
      "  File \"/Users/benoitmuller/opt/anaconda3/lib/python3.9/site-packages/stack_data/utils.py\", line 145, in cached_property_wrapper\n",
      "    value = obj.__dict__[self.func.__name__] = self.func(obj)\n",
      "  File \"/Users/benoitmuller/opt/anaconda3/lib/python3.9/site-packages/stack_data/core.py\", line 649, in included_pieces\n",
      "    pos = scope_pieces.index(self.executing_piece)\n",
      "  File \"/Users/benoitmuller/opt/anaconda3/lib/python3.9/site-packages/stack_data/utils.py\", line 145, in cached_property_wrapper\n",
      "    value = obj.__dict__[self.func.__name__] = self.func(obj)\n",
      "  File \"/Users/benoitmuller/opt/anaconda3/lib/python3.9/site-packages/stack_data/core.py\", line 628, in executing_piece\n",
      "    return only(\n",
      "  File \"/Users/benoitmuller/opt/anaconda3/lib/python3.9/site-packages/executing/executing.py\", line 164, in only\n",
      "    raise NotOneValueFound('Expected one value, found 0')\n",
      "executing.executing.NotOneValueFound: Expected one value, found 0\n"
     ]
    }
   ],
   "source": [
    "n=4\n",
    "C = np.random.randint(10,size=(n,n))\n",
    "n,U,V,row,x = preprocess(C)\n",
    "k=n-1\n",
    "if np.any(row==k):\n",
    "     print(\"Invalid candidate k, try again\")\n",
    "else:\n",
    "    sink,pred,row,U,V = augment(C,U,V,row,k)\n",
    "    print(row)\n",
    "    print(sink,pred,SU,LV)\n",
    "    print(C-U[:,np.newaxis]-V)"
   ]
  },
  {
   "attachments": {},
   "cell_type": "markdown",
   "metadata": {},
   "source": [
    "# `transport.py`\n",
    "## `gaussian_transport()`"
   ]
  },
  {
   "cell_type": "code",
   "execution_count": null,
   "metadata": {},
   "outputs": [
    {
     "name": "stdout",
     "output_type": "stream",
     "text": [
      "The autoreload extension is already loaded. To reload it, use:\n",
      "  %reload_ext autoreload\n"
     ]
    },
    {
     "ename": "ImportError",
     "evalue": "cannot import name 'geodesic' from 'transport' (/Users/benoitmuller/Documents/EPFL/Computational-Optimal-Transport/transport.py)",
     "output_type": "error",
     "traceback": [
      "\u001b[0;31m---------------------------------------------------------------------------\u001b[0m",
      "\u001b[0;31mImportError\u001b[0m                               Traceback (most recent call last)",
      "\u001b[1;32m/Users/benoitmuller/Documents/EPFL/Computational-Optimal-Transport/tests.ipynb Cell 16\u001b[0m in \u001b[0;36m<cell line: 4>\u001b[0;34m()\u001b[0m\n\u001b[1;32m      <a href='vscode-notebook-cell:/Users/benoitmuller/Documents/EPFL/Computational-Optimal-Transport/tests.ipynb#X21sZmlsZQ%3D%3D?line=1'>2</a>\u001b[0m get_ipython()\u001b[39m.\u001b[39mrun_line_magic(\u001b[39m'\u001b[39m\u001b[39mautoreload\u001b[39m\u001b[39m'\u001b[39m, \u001b[39m'\u001b[39m\u001b[39m2\u001b[39m\u001b[39m'\u001b[39m)\n\u001b[1;32m      <a href='vscode-notebook-cell:/Users/benoitmuller/Documents/EPFL/Computational-Optimal-Transport/tests.ipynb#X21sZmlsZQ%3D%3D?line=2'>3</a>\u001b[0m \u001b[39mimport\u001b[39;00m \u001b[39mmatplotlib\u001b[39;00m\u001b[39m.\u001b[39;00m\u001b[39mpyplot\u001b[39;00m \u001b[39mas\u001b[39;00m \u001b[39mplt\u001b[39;00m\n\u001b[0;32m----> <a href='vscode-notebook-cell:/Users/benoitmuller/Documents/EPFL/Computational-Optimal-Transport/tests.ipynb#X21sZmlsZQ%3D%3D?line=3'>4</a>\u001b[0m \u001b[39mfrom\u001b[39;00m \u001b[39mtransport\u001b[39;00m \u001b[39mimport\u001b[39;00m gaussian_transport, gaussian_discreatization, geodesic\n\u001b[1;32m      <a href='vscode-notebook-cell:/Users/benoitmuller/Documents/EPFL/Computational-Optimal-Transport/tests.ipynb#X21sZmlsZQ%3D%3D?line=4'>5</a>\u001b[0m rng \u001b[39m=\u001b[39m np\u001b[39m.\u001b[39mrandom\u001b[39m.\u001b[39mdefault_rng(\u001b[39m4321\u001b[39m)\n",
      "\u001b[0;31mImportError\u001b[0m: cannot import name 'geodesic' from 'transport' (/Users/benoitmuller/Documents/EPFL/Computational-Optimal-Transport/transport.py)"
     ]
    }
   ],
   "source": [
    "%load_ext autoreload\n",
    "%autoreload 2\n",
    "import matplotlib.pyplot as plt\n",
    "from transport import gaussian_transport, gaussian_discreatization, geodesic\n",
    "rng = np.random.default_rng(4321)"
   ]
  },
  {
   "cell_type": "code",
   "execution_count": null,
   "metadata": {},
   "outputs": [
    {
     "data": {
      "text/plain": [
       "Text(0.5, 1.0, 'Gaussian discretization, cond(cov2)=6.455549599540868')"
      ]
     },
     "execution_count": 68,
     "metadata": {},
     "output_type": "execute_result"
    },
    {
     "data": {
      "image/png": "[encoded data removed]",
      "text/plain": [
       "<Figure size 432x288 with 1 Axes>"
      ]
     },
     "metadata": {
      "needs_background": "light"
     },
     "output_type": "display_data"
    },
    {
     "data": {
      "image/png": "[encoded data removed]",
      "text/plain": [
       "<Figure size 432x288 with 1 Axes>"
      ]
     },
     "metadata": {
      "needs_background": "light"
     },
     "output_type": "display_data"
    }
   ],
   "source": [
    "d = 2\n",
    "n=100\n",
    "mean1, mean2 = rng.normal(size=d), rng.normal(size=d)\n",
    "A1, A2 = rng.normal(size=(d,d)), rng.normal(size=(d,d))\n",
    "ii=np.arange(d)\n",
    "jj=np.arange(d)[:,np.newaxis]\n",
    "A1[ii-jj<0] = 0\n",
    "A1[ii-jj==0] = np.abs(A1[ii-jj==0])\n",
    "\n",
    "cov1, cov2 = A1.T @ A1, A2.T @ A2\n",
    "transport, W_true = gaussian_transport(mean1, cov1, mean2, cov2)\n",
    "mu, nu, C = gaussian_discreatization(mean1, cov1, mean2, cov2, n, rng)\n",
    "\n",
    "plt.plot(mu[:,0],mu[:,1],'.')\n",
    "plt.title(\"Gaussian discretization, cond(cov1)=\"+str(np.linalg.cond(cov1)))\n",
    "plt.figure()\n",
    "plt.plot(nu[:,0],nu[:,1],'.')\n",
    "plt.title(\"Gaussian discretization, cond(cov2)=\"+str(np.linalg.cond(cov2)))"
   ]
  },
  {
   "cell_type": "code",
   "execution_count": null,
   "metadata": {},
   "outputs": [
    {
     "name": "stdout",
     "output_type": "stream",
     "text": [
      "hungarian succed (feasibility and complementary slackness holds)\n"
     ]
    }
   ],
   "source": [
    "row,x,phi,U,V, W_hungarian = hungarian(C)"
   ]
  },
  {
   "cell_type": "code",
   "execution_count": null,
   "metadata": {},
   "outputs": [
    {
     "name": "stdout",
     "output_type": "stream",
     "text": [
      "W_true = 7.2759270920022425\n",
      "W_hungarian = 3.641625156618944\n",
      "Error = -3.6343019353832986\n",
      "cond(cov1)= 66.6535253743488 cond(cov12)= 6.455549599540868\n"
     ]
    },
    {
     "data": {
      "image/png": "[encoded data removed]",
      "text/plain": [
       "<Figure size 432x288 with 1 Axes>"
      ]
     },
     "metadata": {
      "needs_background": "light"
     },
     "output_type": "display_data"
    }
   ],
   "source": [
    "print(\"W_true =\",W_true)\n",
    "#transported_mu = np.array([transport(mu[:,i] for i in range(n))]).T\n",
    "#W_true_discretized = np.sum((mu[:,np.newaxis,:] - transported_mu)**2, axis=2) / n\n",
    "print(\"W_hungarian =\",W_hungarian)\n",
    "print(\"Error =\",W_hungarian-W_true)\n",
    "print(\"cond(cov1)=\",np.linalg.cond(cov1),\"cond(cov12)=\",np.linalg.cond(cov2))\n",
    "for i in range(n):\n",
    "    plt.plot([mu[i,0],nu[phi[i],0]],[mu[i,1],nu[phi[i],1]],'blue')"
   ]
  }
 ],
 "metadata": {
  "kernelspec": {
   "display_name": "base",
   "language": "python",
   "name": "python3"
  },
  "language_info": {
   "codemirror_mode": {
    "name": "ipython",
    "version": 3
   },
   "file_extension": ".py",
   "mimetype": "text/x-python",
   "name": "python",
   "nbconvert_exporter": "python",
   "pygments_lexer": "ipython3",
   "version": "3.9.12"
  },
  "orig_nbformat": 4,
  "vscode": {
   "interpreter": {
    "hash": "233a531365d7bd5abb8382eb032c18c305e1c6b951add6f6a5c925475bc609cb"
   }
  }
 },
 "nbformat": 4,
 "nbformat_minor": 2
}

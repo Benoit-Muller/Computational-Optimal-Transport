{
 "cells": [
  {
   "attachments": {},
   "cell_type": "markdown",
   "metadata": {},
   "source": [
    "# Use\n",
    "This notebook will be used to tests the functions of the python files"
   ]
  },
  {
   "cell_type": "code",
   "execution_count": 1,
   "metadata": {},
   "outputs": [],
   "source": [
    "import numpy as np\n",
    "import matplotlib.pyplot as plt\n",
    "import warnings\n",
    "from warnings import warn\n",
    "%load_ext autoreload\n",
    "%autoreload 2\n",
    "\n",
    "from hungarian import preprocess, alternate, hungarian, hungarian3, augment\n",
    "from transport import gaussian_transport, gaussian_discreatization\n",
    "\n",
    "rng = np.random.default_rng(4321)"
   ]
  },
  {
   "attachments": {},
   "cell_type": "markdown",
   "metadata": {},
   "source": [
    "# `hungarian.py`\n",
    "## `preprocess(C)`"
   ]
  },
  {
   "cell_type": "code",
   "execution_count": 2,
   "metadata": {},
   "outputs": [
    {
     "name": "stdout",
     "output_type": "stream",
     "text": [
      "[[0.49198954 0.33383561 0.         0.06319988]\n",
      " [0.         0.         0.14055145 0.07568951]\n",
      " [0.28345933 0.         0.14031865 0.        ]\n",
      " [0.29760122 0.45125058 0.         0.09651858]] \n",
      " [[False False  True False]\n",
      " [ True False False False]\n",
      " [False  True False False]\n",
      " [False False False False]]\n"
     ]
    }
   ],
   "source": [
    "n=4\n",
    "C = np.random.random(size=(n,n))\n",
    "n,U,V,row,x = preprocess(C)\n",
    "print(C-U[:,np.newaxis]-V,\"\\n\",x)"
   ]
  },
  {
   "cell_type": "code",
   "execution_count": 3,
   "metadata": {},
   "outputs": [
    {
     "name": "stdout",
     "output_type": "stream",
     "text": [
      "[[0 0 1 2]\n",
      " [0 4 3 5]\n",
      " [0 3 5 8]\n",
      " [1 2 0 0]] [0 None 3 None] [7 2 1 2] [0 2 0 0] \n",
      " [[ True False False False]\n",
      " [False False False False]\n",
      " [False False False False]\n",
      " [False False  True False]]\n"
     ]
    }
   ],
   "source": [
    "# Exemple 4.3\n",
    "n=4\n",
    "C = np.array([[7,9,8,9],\n",
    "              [2,8,5,7],\n",
    "              [1,6,6,9],\n",
    "              [3,6,2,2]])\n",
    "n,U,V,row,x = preprocess(C)\n",
    "print(C-U[:,np.newaxis] - V, row, U, V,\"\\n\", x)"
   ]
  },
  {
   "attachments": {},
   "cell_type": "markdown",
   "metadata": {},
   "source": [
    "seem ok\n",
    "- The zero entries match the True entries\n",
    "- Internal assertions satisfied\n",
    "- Same results as exemple 4.3\n",
    "## `alternate(C,U,V,row,k)`"
   ]
  },
  {
   "cell_type": "code",
   "execution_count": 4,
   "metadata": {},
   "outputs": [
    {
     "name": "stdout",
     "output_type": "stream",
     "text": [
      "Invalid candidate k, try again\n"
     ]
    }
   ],
   "source": [
    "n=4\n",
    "C = np.random.randint(10,size=(n,n))\n",
    "n,U,V,row,x = preprocess(C)\n",
    "k=n-1\n",
    "if np.any(row==k):\n",
    "     print(\"Invalid candidate k, try again\")\n",
    "else:\n",
    "    sink,pred,SU,LV = alternate(C,U,V,row,k)\n",
    "    print(row)\n",
    "    print(sink,pred,SU,LV)\n",
    "    print(C-U[:,np.newaxis]-V)"
   ]
  },
  {
   "cell_type": "code",
   "execution_count": 5,
   "metadata": {},
   "outputs": [
    {
     "name": "stdout",
     "output_type": "stream",
     "text": [
      "1 [1 0 None None]\n"
     ]
    }
   ],
   "source": [
    "# Exemple 4.3\n",
    "n=4\n",
    "C = np.array([[7,9,8,9],\n",
    "              [2,8,6,7],\n",
    "              [1,6,6,9],\n",
    "              [3,6,2,2]])\n",
    "n,U,V,row,x = preprocess(C)\n",
    "k=1\n",
    "sink,pred,SU,LV = alternate(C,U,V,row,k)\n",
    "print(sink,pred)"
   ]
  },
  {
   "attachments": {},
   "cell_type": "markdown",
   "metadata": {},
   "source": [
    "## `hungarian(C)`"
   ]
  },
  {
   "cell_type": "code",
   "execution_count": 6,
   "metadata": {},
   "outputs": [
    {
     "name": "stdout",
     "output_type": "stream",
     "text": [
      "hungarian succed (feasibility and complementary slackness holds)\n",
      "[2 0 1 3] [1 2 0 3] [8 6 5 2] [-4  1  0  0]\n",
      "[[0 1 0 0]\n",
      " [0 0 1 0]\n",
      " [1 0 0 0]\n",
      " [0 0 0 1]]\n"
     ]
    }
   ],
   "source": [
    "# Exemple 4.3\n",
    "n=4\n",
    "C = np.array([[7,9,8,9],\n",
    "              [2,8,6,7],\n",
    "              [1,6,6,9],\n",
    "              [3,6,2,2]])\n",
    "row,x,phi,U,V,W = hungarian(C)\n",
    "print(row,phi,U,V)\n",
    "print(1*x)"
   ]
  },
  {
   "cell_type": "code",
   "execution_count": 7,
   "metadata": {},
   "outputs": [
    {
     "name": "stdout",
     "output_type": "stream",
     "text": [
      "hungarian succed (feasibility and complementary slackness holds)\n",
      "[0 9 2 6 5 1 7 8 4 3] [0 5 2 9 8 4 3 6 7 1] [1 1 1 1 1 1 1 1 1 1] [0 0 1 0 0 0 0 0 0 1]\n"
     ]
    }
   ],
   "source": [
    "# random integer\n",
    "n=10\n",
    "C = np.random.randint(1,10,(n,n))\n",
    "row,x,phi,U,V, W = hungarian(C)\n",
    "print(row,phi,U,V)"
   ]
  },
  {
   "cell_type": "code",
   "execution_count": 8,
   "metadata": {},
   "outputs": [
    {
     "name": "stdout",
     "output_type": "stream",
     "text": [
      "hungarian succed (feasibility and complementary slackness holds)\n",
      "[[0.96322647 0.78917081 0.06419616 0.29385053]\n",
      " [0.88968484 0.93426913 0.54512264 0.43879209]\n",
      " [0.19366315 0.53101025 0.43641665 0.07429923]\n",
      " [0.81806767 0.52423214 0.57589986 0.10146387]]\n",
      "[[0.77966639 0.30220638 0.         0.22965436]\n",
      " [0.33152883 0.07270877 0.10633054 0.        ]\n",
      " [0.         0.03394276 0.36211742 0.        ]\n",
      " [0.59723988 0.         0.47443599 0.        ]]\n",
      "[2 3 0 1] [2 3 0 1] [0.06419616 0.43879209 0.07429923 0.10146387] [0.11936392 0.42276827 0.         0.        ]\n",
      "[[0 0 1 0]\n",
      " [0 0 0 1]\n",
      " [1 0 0 0]\n",
      " [0 1 0 0]]\n"
     ]
    }
   ],
   "source": [
    "# random gaussian\n",
    "n=4\n",
    "C = np.random.random(size=(n,n))\n",
    "row,x,phi,U,V,W = hungarian(C)\n",
    "print(C)\n",
    "print(C-U[:,np.newaxis]-V)\n",
    "print(row,phi,U,V)\n",
    "print(1*x)"
   ]
  },
  {
   "cell_type": "code",
   "execution_count": 9,
   "metadata": {},
   "outputs": [
    {
     "name": "stdout",
     "output_type": "stream",
     "text": [
      "hungarian succed (feasibility and complementary slackness holds)\n"
     ]
    }
   ],
   "source": [
    "# random gaussian\n",
    "n=10\n",
    "d=10\n",
    "a=np.random.randn(d,n)\n",
    "b=np.random.randn(d,n)\n",
    "C = np.sum((a[:,:,np.newaxis]-b[:,np.newaxis,:])**2,axis=0)\n",
    "#print(C)\n",
    "row,x,phi,U,V,W = hungarian(C)\n",
    "#print(C-U[:,np.newaxis]-V)\n",
    "#print(row,phi,U,V)\n",
    "#print(1*x)"
   ]
  },
  {
   "attachments": {},
   "cell_type": "markdown",
   "metadata": {},
   "source": [
    "## Questions/remarks\n",
    "- We must test the **scalar equality** $u_i+v_j=c_{ij}$ multiple times, for now done with a tolerance of proximity but it's not very absolute and strong. How resolve? Solutions:\n",
    "    - Use integers by **rescaling**.(the more we rescale the slower it becomes)\n",
    "    - During the dual updating, **save the index** where the constrain is becoming active (by saving the argmin, see how to do it)\n",
    "    \n",
    "    -> it is indeed true with tolerance but wont affect the convergence of the algorithm neither the final output significantly\n",
    "\n",
    "- implementation of **sets** by **vectors**. Better by python sets?\n",
    "\n",
    "    -> we'll see, not so bad \n",
    "\n",
    "- describe the functionment of algorithm? a sketch of background?\n",
    "\n",
    "    -> yes, sketch the idea, describe the steps, invariants, stopping situation.\n",
    "\n",
    "- with floats, there is sometimes a small transgression of the dual feasibility, has been dealed by adding a tolerance `tol=1e-5`.\n",
    "\n",
    "## `augment()`"
   ]
  },
  {
   "cell_type": "code",
   "execution_count": 10,
   "metadata": {},
   "outputs": [
    {
     "name": "stdout",
     "output_type": "stream",
     "text": [
      "Invalid candidate k, try again\n"
     ]
    }
   ],
   "source": [
    "n=4\n",
    "C = np.random.randint(10,size=(n,n))\n",
    "n,U,V,row,x = preprocess(C)\n",
    "k=n-1\n",
    "if np.any(row==k):\n",
    "     print(\"Invalid candidate k, try again\")\n",
    "else:\n",
    "    sink,pred,U,V = augment(C,U,V,row,k)\n",
    "    print(sink,pred,U,V)\n",
    "    print(C-U[:,np.newaxis]-V)"
   ]
  },
  {
   "attachments": {},
   "cell_type": "markdown",
   "metadata": {},
   "source": [
    "## `hungarian3()`"
   ]
  },
  {
   "cell_type": "code",
   "execution_count": 11,
   "metadata": {},
   "outputs": [
    {
     "name": "stdout",
     "output_type": "stream",
     "text": [
      "hungarian3 succed (feasibility and complementary slackness holds)\n",
      "[1 2 0 3] [2 0 1 3] [8 6 5 2] [-4  1  0  0]\n",
      "[[0 0 1 0]\n",
      " [1 0 0 0]\n",
      " [0 1 0 0]\n",
      " [0 0 0 1]]\n"
     ]
    }
   ],
   "source": [
    "# Exemple 4.3\n",
    "n=4\n",
    "C = np.array([[7,9,8,9],\n",
    "              [2,8,6,7],\n",
    "              [1,6,6,9],\n",
    "              [3,6,2,2]])\n",
    "row,x,phi,U,V,W = hungarian3(C)\n",
    "print(row,phi,U,V)\n",
    "print(1*x)"
   ]
  },
  {
   "cell_type": "code",
   "execution_count": 12,
   "metadata": {},
   "outputs": [
    {
     "name": "stdout",
     "output_type": "stream",
     "text": [
      "hungarian3 succed (feasibility and complementary slackness holds)\n"
     ]
    }
   ],
   "source": [
    "n=100\n",
    "C = np.random.randint(10,size=(n,n))\n",
    "row,x,phi,U,V,W = hungarian3(C)"
   ]
  },
  {
   "attachments": {},
   "cell_type": "markdown",
   "metadata": {},
   "source": [
    "# `transport.py`\n",
    "## `gaussian_transport()`"
   ]
  },
  {
   "cell_type": "code",
   "execution_count": 13,
   "metadata": {},
   "outputs": [
    {
     "name": "stdout",
     "output_type": "stream",
     "text": [
      "The autoreload extension is already loaded. To reload it, use:\n",
      "  %reload_ext autoreload\n"
     ]
    }
   ],
   "source": [
    "%load_ext autoreload\n",
    "%autoreload 2\n",
    "import matplotlib.pyplot as plt\n",
    "from transport import gaussian_transport, gaussian_discreatization\n",
    "rng = np.random.default_rng(4321)"
   ]
  },
  {
   "cell_type": "code",
   "execution_count": 46,
   "metadata": {},
   "outputs": [
    {
     "data": {
      "text/plain": [
       "Text(0.5, 1.0, 'Gaussian discretization, cond(cov2)=1.2454704099105134')"
      ]
     },
     "execution_count": 46,
     "metadata": {},
     "output_type": "execute_result"
    },
    {
     "data": {
      "image/png": "[encoded data removed]",
      "text/plain": [
       "<Figure size 432x288 with 1 Axes>"
      ]
     },
     "metadata": {
      "needs_background": "light"
     },
     "output_type": "display_data"
    },
    {
     "data": {
      "image/png": "[encoded data removed]",
      "text/plain": [
       "<Figure size 432x288 with 1 Axes>"
      ]
     },
     "metadata": {
      "needs_background": "light"
     },
     "output_type": "display_data"
    }
   ],
   "source": [
    "d = 2\n",
    "n=120\n",
    "mean1, mean2 = rng.normal(size=d), rng.normal(size=d)\n",
    "A1, A2 = rng.normal(size=(d,d)), rng.normal(size=(d,d))\n",
    "ii=np.arange(d)\n",
    "jj=np.arange(d)[:,np.newaxis]\n",
    "A1[ii-jj<0] = 0\n",
    "A1[ii-jj==0] = np.abs(A1[ii-jj==0])\n",
    "\n",
    "cov1, cov2 = A1.T @ A1, A2.T @ A2\n",
    "transport, W_true = gaussian_transport(mean1, cov1, mean2, cov2)\n",
    "mu, nu, C = gaussian_discreatization(mean1, cov1, mean2, cov2, n, rng)\n",
    "\n",
    "plt.plot(mu[:,0],mu[:,1],'.')\n",
    "plt.title(\"Gaussian discretization, cond(cov1)=\"+str(np.linalg.cond(cov1)))\n",
    "plt.figure()\n",
    "plt.plot(nu[:,0],nu[:,1],'.')\n",
    "plt.title(\"Gaussian discretization, cond(cov2)=\"+str(np.linalg.cond(cov2)))"
   ]
  },
  {
   "cell_type": "code",
   "execution_count": 47,
   "metadata": {},
   "outputs": [
    {
     "name": "stdout",
     "output_type": "stream",
     "text": [
      "hungarian3 succed (feasibility and complementary slackness holds)\n"
     ]
    }
   ],
   "source": [
    "row,x,phi,U,V, W_hungarian = hungarian3(C)"
   ]
  },
  {
   "cell_type": "code",
   "execution_count": 48,
   "metadata": {},
   "outputs": [
    {
     "name": "stdout",
     "output_type": "stream",
     "text": [
      "W_true = 9.268400280160348\n",
      "W_hungarian = 9.509034085732706\n",
      "Error = 0.24063380557235803\n",
      "cond(cov1)= 31.131845959884373 cond(cov12)= 1.2454704099105134\n"
     ]
    },
    {
     "data": {
      "image/png": "[encoded data removed]",
      "text/plain": [
       "<Figure size 432x288 with 1 Axes>"
      ]
     },
     "metadata": {
      "needs_background": "light"
     },
     "output_type": "display_data"
    }
   ],
   "source": [
    "print(\"W_true =\",W_true)\n",
    "#transported_mu = np.array([transport(mu[:,i] for i in range(n))]).T\n",
    "#W_true_discretized = np.sum((mu[:,np.newaxis,:] - transported_mu)**2, axis=2) / n\n",
    "print(\"W_hungarian =\",W_hungarian)\n",
    "print(\"Error =\",W_hungarian-W_true)\n",
    "print(\"cond(cov1)=\",np.linalg.cond(cov1),\"cond(cov12)=\",np.linalg.cond(cov2))\n",
    "for i in range(n):\n",
    "    plt.plot([mu[i,0],nu[phi[i],0]],[mu[i,1],nu[phi[i],1]],'blue')"
   ]
  }
 ],
 "metadata": {
  "kernelspec": {
   "display_name": "base",
   "language": "python",
   "name": "python3"
  },
  "language_info": {
   "codemirror_mode": {
    "name": "ipython",
    "version": 3
   },
   "file_extension": ".py",
   "mimetype": "text/x-python",
   "name": "python",
   "nbconvert_exporter": "python",
   "pygments_lexer": "ipython3",
   "version": "3.9.12"
  },
  "orig_nbformat": 4,
  "vscode": {
   "interpreter": {
    "hash": "233a531365d7bd5abb8382eb032c18c305e1c6b951add6f6a5c925475bc609cb"
   }
  }
 },
 "nbformat": 4,
 "nbformat_minor": 2
}

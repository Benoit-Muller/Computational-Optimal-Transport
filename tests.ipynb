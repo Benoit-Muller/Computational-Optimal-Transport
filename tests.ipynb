{
 "cells": [
  {
   "attachments": {},
   "cell_type": "markdown",
   "metadata": {},
   "source": [
    "# Use\n",
    "This notebook will be used to tests the functions of the python files"
   ]
  },
  {
   "cell_type": "code",
   "execution_count": 47,
   "metadata": {},
   "outputs": [
    {
     "name": "stdout",
     "output_type": "stream",
     "text": [
      "The autoreload extension is already loaded. To reload it, use:\n",
      "  %reload_ext autoreload\n"
     ]
    }
   ],
   "source": [
    "import numpy as np\n",
    "import warnings\n",
    "%load_ext autoreload\n",
    "%autoreload 2\n",
    "from hungarian import preprocess, alternate, hungarian"
   ]
  },
  {
   "cell_type": "code",
   "execution_count": 48,
   "metadata": {},
   "outputs": [],
   "source": [
    "from warnings import warn"
   ]
  },
  {
   "attachments": {},
   "cell_type": "markdown",
   "metadata": {},
   "source": [
    "# `hungarian.py`\n",
    "## `preprocess(C)`"
   ]
  },
  {
   "cell_type": "code",
   "execution_count": 49,
   "metadata": {},
   "outputs": [
    {
     "name": "stdout",
     "output_type": "stream",
     "text": [
      "[[0.17457484 0.2464904  0.         0.        ]\n",
      " [0.         0.59083242 0.04612399 0.00229155]\n",
      " [0.91647983 0.         0.1646719  0.48183768]\n",
      " [0.54768548 0.         0.27790428 0.04387045]] \n",
      " [[False False  True False]\n",
      " [ True False False False]\n",
      " [False  True False False]\n",
      " [False False False False]]\n"
     ]
    }
   ],
   "source": [
    "n=4\n",
    "C = np.random.random(size=(n,n))\n",
    "n,U,V,row,x = preprocess(C)\n",
    "print(C-U[:,np.newaxis]-V,\"\\n\",x)"
   ]
  },
  {
   "cell_type": "code",
   "execution_count": 50,
   "metadata": {},
   "outputs": [
    {
     "name": "stdout",
     "output_type": "stream",
     "text": [
      "[[0 0 1 2]\n",
      " [0 4 3 5]\n",
      " [0 3 5 8]\n",
      " [1 2 0 0]] [0 None 3 None] [7 2 1 2] [0 2 0 0] \n",
      " [[ True False False False]\n",
      " [False False False False]\n",
      " [False False False False]\n",
      " [False False  True False]]\n"
     ]
    }
   ],
   "source": [
    "# Exemple 4.3\n",
    "n=4\n",
    "C = np.array([[7,9,8,9],\n",
    "              [2,8,5,7],\n",
    "              [1,6,6,9],\n",
    "              [3,6,2,2]])\n",
    "n,U,V,row,x = preprocess(C)\n",
    "print(C-U[:,np.newaxis] - V, row, U, V,\"\\n\", x)"
   ]
  },
  {
   "attachments": {},
   "cell_type": "markdown",
   "metadata": {},
   "source": [
    "seem ok\n",
    "- The zero entries match the True entries\n",
    "- Internal assertions satisfied\n",
    "- Same results as exemple 4.3\n",
    "## `alternate(C,U,V,row,k)`"
   ]
  },
  {
   "cell_type": "code",
   "execution_count": 51,
   "metadata": {},
   "outputs": [
    {
     "name": "stdout",
     "output_type": "stream",
     "text": [
      "[1 2 0 None]\n",
      "3 [3 None 1 1] [ True  True False  True] [ True False  True  True]\n",
      "[[3 2 0 4]\n",
      " [0 3 0 0]\n",
      " [0 0 0 3]\n",
      " [0 1 3 4]]\n"
     ]
    }
   ],
   "source": [
    "n=4\n",
    "C = np.random.randint(10,size=(n,n))\n",
    "n,U,V,row,x = preprocess(C)\n",
    "k=n-1\n",
    "if np.any(row==k):\n",
    "     print(\"Invalid candidate k, try again\")\n",
    "else:\n",
    "    sink,pred,SU,LV = alternate(C,U,V,row,k)\n",
    "    print(row)\n",
    "    print(sink,pred,SU,LV)\n",
    "    print(C-U[:,np.newaxis]-V)"
   ]
  },
  {
   "cell_type": "code",
   "execution_count": 52,
   "metadata": {},
   "outputs": [
    {
     "name": "stdout",
     "output_type": "stream",
     "text": [
      "1 [1 0 None None]\n"
     ]
    }
   ],
   "source": [
    "# Exemple 4.3\n",
    "n=4\n",
    "C = np.array([[7,9,8,9],\n",
    "              [2,8,6,7],\n",
    "              [1,6,6,9],\n",
    "              [3,6,2,2]])\n",
    "n,U,V,row,x = preprocess(C)\n",
    "k=1\n",
    "sink,pred,SU,LV = alternate(C,U,V,row,k)\n",
    "print(sink,pred)"
   ]
  },
  {
   "attachments": {},
   "cell_type": "markdown",
   "metadata": {},
   "source": [
    "## `hungarian(C)`"
   ]
  },
  {
   "cell_type": "code",
   "execution_count": 53,
   "metadata": {},
   "outputs": [
    {
     "name": "stdout",
     "output_type": "stream",
     "text": [
      "hungarian succed (feasibility and complementary slackness holds)\n"
     ]
    },
    {
     "ename": "ValueError",
     "evalue": "too many values to unpack (expected 5)",
     "output_type": "error",
     "traceback": [
      "\u001b[0;31m---------------------------------------------------------------------------\u001b[0m",
      "\u001b[0;31mValueError\u001b[0m                                Traceback (most recent call last)",
      "\u001b[1;32m/Users/benoitmuller/Documents/EPFL/Computational-Optimal-Transport/tests.ipynb Cell 11\u001b[0m in \u001b[0;36m<cell line: 7>\u001b[0;34m()\u001b[0m\n\u001b[1;32m      <a href='vscode-notebook-cell:/Users/benoitmuller/Documents/EPFL/Computational-Optimal-Transport/tests.ipynb#X12sZmlsZQ%3D%3D?line=1'>2</a>\u001b[0m n\u001b[39m=\u001b[39m\u001b[39m4\u001b[39m\n\u001b[1;32m      <a href='vscode-notebook-cell:/Users/benoitmuller/Documents/EPFL/Computational-Optimal-Transport/tests.ipynb#X12sZmlsZQ%3D%3D?line=2'>3</a>\u001b[0m C \u001b[39m=\u001b[39m np\u001b[39m.\u001b[39marray([[\u001b[39m7\u001b[39m,\u001b[39m9\u001b[39m,\u001b[39m8\u001b[39m,\u001b[39m9\u001b[39m],\n\u001b[1;32m      <a href='vscode-notebook-cell:/Users/benoitmuller/Documents/EPFL/Computational-Optimal-Transport/tests.ipynb#X12sZmlsZQ%3D%3D?line=3'>4</a>\u001b[0m               [\u001b[39m2\u001b[39m,\u001b[39m8\u001b[39m,\u001b[39m6\u001b[39m,\u001b[39m7\u001b[39m],\n\u001b[1;32m      <a href='vscode-notebook-cell:/Users/benoitmuller/Documents/EPFL/Computational-Optimal-Transport/tests.ipynb#X12sZmlsZQ%3D%3D?line=4'>5</a>\u001b[0m               [\u001b[39m1\u001b[39m,\u001b[39m6\u001b[39m,\u001b[39m6\u001b[39m,\u001b[39m9\u001b[39m],\n\u001b[1;32m      <a href='vscode-notebook-cell:/Users/benoitmuller/Documents/EPFL/Computational-Optimal-Transport/tests.ipynb#X12sZmlsZQ%3D%3D?line=5'>6</a>\u001b[0m               [\u001b[39m3\u001b[39m,\u001b[39m6\u001b[39m,\u001b[39m2\u001b[39m,\u001b[39m2\u001b[39m]])\n\u001b[0;32m----> <a href='vscode-notebook-cell:/Users/benoitmuller/Documents/EPFL/Computational-Optimal-Transport/tests.ipynb#X12sZmlsZQ%3D%3D?line=6'>7</a>\u001b[0m row,x,phi,U,V \u001b[39m=\u001b[39m hungarian(C)\n\u001b[1;32m      <a href='vscode-notebook-cell:/Users/benoitmuller/Documents/EPFL/Computational-Optimal-Transport/tests.ipynb#X12sZmlsZQ%3D%3D?line=7'>8</a>\u001b[0m \u001b[39mprint\u001b[39m(row,phi,U,V)\n\u001b[1;32m      <a href='vscode-notebook-cell:/Users/benoitmuller/Documents/EPFL/Computational-Optimal-Transport/tests.ipynb#X12sZmlsZQ%3D%3D?line=8'>9</a>\u001b[0m \u001b[39mprint\u001b[39m(\u001b[39m1\u001b[39m\u001b[39m*\u001b[39mx)\n",
      "\u001b[0;31mValueError\u001b[0m: too many values to unpack (expected 5)"
     ]
    }
   ],
   "source": [
    "# Exemple 4.3\n",
    "n=4\n",
    "C = np.array([[7,9,8,9],\n",
    "              [2,8,6,7],\n",
    "              [1,6,6,9],\n",
    "              [3,6,2,2]])\n",
    "row,x,phi,U,V = hungarian(C)\n",
    "print(row,phi,U,V)\n",
    "print(1*x)"
   ]
  },
  {
   "cell_type": "code",
   "execution_count": null,
   "metadata": {},
   "outputs": [
    {
     "name": "stdout",
     "output_type": "stream",
     "text": [
      "hungarian succed (feasibility and complementary slackness holds)\n",
      "[9 7 1 0 5 8 6 4 3 2] [3 2 9 8 7 4 6 1 5 0] [1 1 0 0 2 2 0 1 1 0] [ 1  0  2  1  0  0  0 -1  1  0]\n",
      "[[0 0 0 1 0 0 0 0 0 0]\n",
      " [0 0 1 0 0 0 0 0 0 0]\n",
      " [0 0 0 0 0 0 0 0 0 1]\n",
      " [0 0 0 0 0 0 0 0 1 0]\n",
      " [0 0 0 0 0 0 0 1 0 0]\n",
      " [0 0 0 0 1 0 0 0 0 0]\n",
      " [0 0 0 0 0 0 1 0 0 0]\n",
      " [0 1 0 0 0 0 0 0 0 0]\n",
      " [0 0 0 0 0 1 0 0 0 0]\n",
      " [1 0 0 0 0 0 0 0 0 0]]\n"
     ]
    }
   ],
   "source": [
    "# random integer\n",
    "n=10\n",
    "C = np.random.randint(0,10,(n,n))\n",
    "row,x,phi,U,V = hungarian(C)\n",
    "print(row,phi,U,V)\n",
    "print(1*x)"
   ]
  },
  {
   "cell_type": "code",
   "execution_count": null,
   "metadata": {},
   "outputs": [
    {
     "name": "stdout",
     "output_type": "stream",
     "text": [
      "hungarian succed (feasibility and complementary slackness holds)\n",
      "[[0.88750979 0.30436604 0.06572024 0.50733359]\n",
      " [0.97961864 0.26847654 0.79512909 0.81578427]\n",
      " [0.65527225 0.54489216 0.46235794 0.24825756]\n",
      " [0.4622001  0.94396178 0.08535918 0.47082073]]\n",
      "[[0.44494863 0.2386458  0.         0.44161336]\n",
      " [0.33430117 0.         0.52665255 0.54730773]\n",
      " [0.03017377 0.2966346  0.21410039 0.        ]\n",
      " [0.         0.8586026  0.         0.38546155]]\n",
      "[3 1 0 2] [2 1 3 0] [0.06572024 0.26847654 0.24825756 0.08535918] [0.37684093 0.         0.         0.        ]\n",
      "[[0 0 1 0]\n",
      " [0 1 0 0]\n",
      " [0 0 0 1]\n",
      " [1 0 0 0]]\n"
     ]
    }
   ],
   "source": [
    "# random gaussian\n",
    "n=4\n",
    "C = np.random.random(size=(n,n))\n",
    "row,x,phi,U,V = hungarian(C)\n",
    "print(C)\n",
    "print(C-U[:,np.newaxis]-V)\n",
    "print(row,phi,U,V)\n",
    "print(1*x)"
   ]
  },
  {
   "cell_type": "code",
   "execution_count": null,
   "metadata": {},
   "outputs": [
    {
     "name": "stdout",
     "output_type": "stream",
     "text": [
      "hungarian succed (feasibility and complementary slackness holds)\n"
     ]
    }
   ],
   "source": [
    "# random gaussian\n",
    "n=10\n",
    "d=10\n",
    "a=np.random.randn(d,n)\n",
    "b=np.random.randn(d,n)\n",
    "C = np.sum((a[:,:,np.newaxis]-b[:,np.newaxis,:])**2,axis=0)\n",
    "#print(C)\n",
    "row,x,phi,U,V = hungarian(C)\n",
    "#print(C-U[:,np.newaxis]-V)\n",
    "#print(row,phi,U,V)\n",
    "#print(1*x)"
   ]
  },
  {
   "attachments": {},
   "cell_type": "markdown",
   "metadata": {},
   "source": [
    "## Questions/remarks\n",
    "- We must test the **scalar equality** $u_i+v_j=c_{ij}$ multiple times, for now done with a tolerance of proximity but it's not very absolute and strong. How resolve? Solutions:\n",
    "    - Use integers by **rescaling**.(the more we rescale the slower it becomes)\n",
    "    - During the dual updating, **save the index** where the constrain is becoming active (by saving the argmin, see how to do it)\n",
    "    \n",
    "    -> it is indeed true with tolerance but wont affect the convergence of the algorithm neither the final output significantly\n",
    "\n",
    "- implementation of **sets** by **vectors**. Better by python sets?\n",
    "\n",
    "    -> we'll see, not so bad \n",
    "\n",
    "- describe the functionment of algorithm? a sketch of background?\n",
    "\n",
    "    -> yes, sketch the idea, describe the steps, invariants, stopping situation.\n",
    "\n",
    "- with floats, there is sometimes a small transgression of the dual feasibility, has been dealed by adding a tolerance `tol=1e-5`.\n",
    "\n",
    "# `transport.py`\n",
    "## `gaussian_transport()`"
   ]
  },
  {
   "cell_type": "code",
   "execution_count": null,
   "metadata": {},
   "outputs": [
    {
     "name": "stdout",
     "output_type": "stream",
     "text": [
      "The autoreload extension is already loaded. To reload it, use:\n",
      "  %reload_ext autoreload\n"
     ]
    }
   ],
   "source": [
    "%load_ext autoreload\n",
    "%autoreload 2\n",
    "from transport import gaussian_transport, gaussian_discreatization\n",
    "rng = np.random.default_rng(4321)"
   ]
  },
  {
   "cell_type": "code",
   "execution_count": null,
   "metadata": {},
   "outputs": [
    {
     "name": "stdout",
     "output_type": "stream",
     "text": [
      "hungarian succed (feasibility and complementary slackness holds)\n"
     ]
    }
   ],
   "source": [
    "d = 2\n",
    "mean1, mean2 = rng.normal(size=d), rng.normal(size=d)\n",
    "A1, A2 = rng.normal(size=(d,d)), rng.normal(size=(d,d))\n",
    "cov1, cov2 = A1.T @ A1, A2.T @ A2\n",
    "transport, W_true = gaussian_transport(mean1, cov1, mean2, cov2)\n",
    "\n",
    "n=100\n",
    "mu, nu, C = gaussian_discreatization(mean1, cov1, mean2, cov2, n, rng)\n",
    "row,x,phi,U,V, W_hungarian = hungarian(C)"
   ]
  },
  {
   "cell_type": "code",
   "execution_count": null,
   "metadata": {},
   "outputs": [
    {
     "name": "stdout",
     "output_type": "stream",
     "text": [
      "W_true = 9.516457823506894\n",
      "W_hungarian = 9.80885524433506\n",
      "Error = 0.29239742082816633\n",
      "cond(cov1)= 9.3826297462511 cond(cov12)= 2.474799938877613\n"
     ]
    }
   ],
   "source": [
    "print(\"W_true =\",W_true)\n",
    "#transported_mu = np.array([transport(mu[:,i] for i in range(n))]).T\n",
    "#W_true_discretized = np.sum((mu[:,np.newaxis,:] - transported_mu)**2, axis=2) / n\n",
    "print(\"W_hungarian =\",W_hungarian)\n",
    "print(\"Error =\",W_hungarian-W_true)\n",
    "print(\"cond(cov1)=\",np.linalg.cond(cov1),\"cond(cov12)=\",np.linalg.cond(cov2))"
   ]
  }
 ],
 "metadata": {
  "kernelspec": {
   "display_name": "base",
   "language": "python",
   "name": "python3"
  },
  "language_info": {
   "codemirror_mode": {
    "name": "ipython",
    "version": 3
   },
   "file_extension": ".py",
   "mimetype": "text/x-python",
   "name": "python",
   "nbconvert_exporter": "python",
   "pygments_lexer": "ipython3",
   "version": "3.9.12"
  },
  "orig_nbformat": 4,
  "vscode": {
   "interpreter": {
    "hash": "233a531365d7bd5abb8382eb032c18c305e1c6b951add6f6a5c925475bc609cb"
   }
  }
 },
 "nbformat": 4,
 "nbformat_minor": 2
}

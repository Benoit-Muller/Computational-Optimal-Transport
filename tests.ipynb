{
 "cells": [
  {
   "attachments": {},
   "cell_type": "markdown",
   "metadata": {},
   "source": [
    "# Use\n",
    "This notebook will be used to tests the functions of the python files"
   ]
  },
  {
   "cell_type": "code",
   "execution_count": 336,
   "metadata": {},
   "outputs": [
    {
     "name": "stdout",
     "output_type": "stream",
     "text": [
      "The autoreload extension is already loaded. To reload it, use:\n",
      "  %reload_ext autoreload\n"
     ]
    }
   ],
   "source": [
    "import numpy as np\n",
    "import warnings\n",
    "%load_ext autoreload\n",
    "%autoreload 2\n",
    "from hungarian import preprocess, alternate, hungarian"
   ]
  },
  {
   "attachments": {},
   "cell_type": "markdown",
   "metadata": {},
   "source": [
    "## Test of `preprocess(C)`"
   ]
  },
  {
   "cell_type": "code",
   "execution_count": 337,
   "metadata": {},
   "outputs": [
    {
     "name": "stdout",
     "output_type": "stream",
     "text": [
      "[[0.59216455 0.37469491 0.         0.55524684]\n",
      " [0.04597711 0.60900007 0.         0.54268023]\n",
      " [0.         0.         0.91171088 0.        ]\n",
      " [0.33012166 0.68357131 0.         0.0381224 ]] \n",
      " [[False False  True False]\n",
      " [False False False False]\n",
      " [ True False False False]\n",
      " [False False False False]]\n"
     ]
    }
   ],
   "source": [
    "n=4\n",
    "C = np.random.random(size=(n,n))\n",
    "n,U,V,row,x = preprocess(C)\n",
    "print(C-U[:,np.newaxis]-V,\"\\n\",x)"
   ]
  },
  {
   "cell_type": "code",
   "execution_count": 338,
   "metadata": {},
   "outputs": [
    {
     "name": "stdout",
     "output_type": "stream",
     "text": [
      "[[0 0 1 2]\n",
      " [0 4 3 5]\n",
      " [0 3 5 8]\n",
      " [1 2 0 0]] [0 None 3 None] [7 2 1 2] [0 2 0 0] \n",
      " [[ True False False False]\n",
      " [False False False False]\n",
      " [False False False False]\n",
      " [False False  True False]]\n"
     ]
    }
   ],
   "source": [
    "# Exemple 4.3\n",
    "n=4\n",
    "C = np.array([[7,9,8,9],\n",
    "              [2,8,5,7],\n",
    "              [1,6,6,9],\n",
    "              [3,6,2,2]])\n",
    "n,U,V,row,x = preprocess(C)\n",
    "print(C-U[:,np.newaxis] - V, row, U, V,\"\\n\", x)"
   ]
  },
  {
   "attachments": {},
   "cell_type": "markdown",
   "metadata": {},
   "source": [
    "seem ok\n",
    "- The zero entries match the True entries\n",
    "- Internal assertions satisfied\n",
    "- Same results as exemple 4.3\n",
    "## Test of `alternate(C,U,V,row,k)`"
   ]
  },
  {
   "cell_type": "code",
   "execution_count": 339,
   "metadata": {},
   "outputs": [
    {
     "name": "stdout",
     "output_type": "stream",
     "text": [
      "Invalid candidate k, try again\n"
     ]
    }
   ],
   "source": [
    "n=4\n",
    "C = np.random.randint(10,size=(n,n))\n",
    "n,U,V,row,x = preprocess(C)\n",
    "k=n-1\n",
    "if np.any(row==k):\n",
    "     print(\"Invalid candidate k, try again\")\n",
    "else:\n",
    "    sink,pred,SU,LV = alternate(C,U,V,row,k)\n",
    "    print(row)\n",
    "    print(sink,pred,SU,LV)\n",
    "    print(C-U[:,np.newaxis]-V)"
   ]
  },
  {
   "cell_type": "code",
   "execution_count": 340,
   "metadata": {},
   "outputs": [
    {
     "name": "stdout",
     "output_type": "stream",
     "text": [
      "1 [1 0 None None]\n"
     ]
    }
   ],
   "source": [
    "# Exemple 4.3\n",
    "n=4\n",
    "C = np.array([[7,9,8,9],\n",
    "              [2,8,6,7],\n",
    "              [1,6,6,9],\n",
    "              [3,6,2,2]])\n",
    "n,U,V,row,x = preprocess(C)\n",
    "k=1\n",
    "sink,pred,SU,LV = alternate(C,U,V,row,k)\n",
    "print(sink,pred)"
   ]
  },
  {
   "attachments": {},
   "cell_type": "markdown",
   "metadata": {},
   "source": [
    "## Tests of `hungarian(C)`"
   ]
  },
  {
   "cell_type": "code",
   "execution_count": 341,
   "metadata": {},
   "outputs": [
    {
     "name": "stdout",
     "output_type": "stream",
     "text": [
      "hungarian succed (feasibility and complementary slackness holds)\n",
      "[2 0 1 3] [1 2 0 3] [8 6 5 2] [-4  1  0  0]\n",
      "[[0 1 0 0]\n",
      " [0 0 1 0]\n",
      " [1 0 0 0]\n",
      " [0 0 0 1]]\n"
     ]
    }
   ],
   "source": [
    "# Exemple 4.3\n",
    "n=4\n",
    "C = np.array([[7,9,8,9],\n",
    "              [2,8,6,7],\n",
    "              [1,6,6,9],\n",
    "              [3,6,2,2]])\n",
    "row,x,phi,U,V = hungarian(C)\n",
    "print(row,phi,U,V)\n",
    "print(1*x)"
   ]
  },
  {
   "cell_type": "code",
   "execution_count": 342,
   "metadata": {},
   "outputs": [
    {
     "name": "stdout",
     "output_type": "stream",
     "text": [
      "hungarian succed (feasibility and complementary slackness holds)\n",
      "[8 1 4 3 0 2 7 6 5 9] [4 1 5 3 2 8 7 6 0 9] [2 1 2 0 1 2 2 1 1 4] [-1  2 -1  0 -1 -2 -1  1 -1  1]\n",
      "[[0 0 0 0 1 0 0 0 0 0]\n",
      " [0 1 0 0 0 0 0 0 0 0]\n",
      " [0 0 0 0 0 1 0 0 0 0]\n",
      " [0 0 0 1 0 0 0 0 0 0]\n",
      " [0 0 1 0 0 0 0 0 0 0]\n",
      " [0 0 0 0 0 0 0 0 1 0]\n",
      " [0 0 0 0 0 0 0 1 0 0]\n",
      " [0 0 0 0 0 0 1 0 0 0]\n",
      " [1 0 0 0 0 0 0 0 0 0]\n",
      " [0 0 0 0 0 0 0 0 0 1]]\n"
     ]
    }
   ],
   "source": [
    "# random integer\n",
    "n=10\n",
    "C = np.random.randint(0,10,(n,n))\n",
    "row,x,phi,U,V = hungarian(C)\n",
    "print(row,phi,U,V)\n",
    "print(1*x)"
   ]
  },
  {
   "cell_type": "code",
   "execution_count": 343,
   "metadata": {},
   "outputs": [
    {
     "name": "stdout",
     "output_type": "stream",
     "text": [
      "hungarian succed (feasibility and complementary slackness holds)\n",
      "[[0.39474292 0.32925682 0.62591257 0.01171872]\n",
      " [0.44045576 0.59690404 0.83515698 0.20061209]\n",
      " [0.45735615 0.22446194 0.86045797 0.47653075]\n",
      " [0.03311328 0.85275745 0.36774661 0.67588245]]\n",
      "[[0.14318053 0.07769443 0.03971686 0.        ]\n",
      " [0.         0.15644828 0.06006789 0.        ]\n",
      " [0.23289421 0.         0.3013627  0.49191248]\n",
      " [0.         0.81964418 0.         0.88261284]]\n",
      "[1 2 3 0] [3 0 1 2] [0.25156239 0.44045576 0.22446194 0.03311328] [ 0.          0.          0.33463333 -0.23984367]\n",
      "[[0 0 0 1]\n",
      " [1 0 0 0]\n",
      " [0 1 0 0]\n",
      " [0 0 1 0]]\n"
     ]
    }
   ],
   "source": [
    "# random gaussian\n",
    "n=4\n",
    "C = np.random.random(size=(n,n))\n",
    "row,x,phi,U,V = hungarian(C)\n",
    "print(C)\n",
    "print(C-U[:,np.newaxis]-V)\n",
    "print(row,phi,U,V)\n",
    "print(1*x)"
   ]
  },
  {
   "cell_type": "code",
   "execution_count": 344,
   "metadata": {},
   "outputs": [
    {
     "name": "stdout",
     "output_type": "stream",
     "text": [
      "hungarian succed (feasibility and complementary slackness holds)\n"
     ]
    }
   ],
   "source": [
    "# random gaussian\n",
    "n=100\n",
    "d=10\n",
    "a=np.random.randn(d,n)\n",
    "b=np.random.randn(d,n)\n",
    "C = np.sum((a[:,:,np.newaxis]-b[:,np.newaxis,:])**2,axis=0)\n",
    "#print(C)\n",
    "row,x,phi,U,V = hungarian(C)\n",
    "#print(C-U[:,np.newaxis]-V)\n",
    "#print(row,phi,U,V)\n",
    "#print(1*x)"
   ]
  },
  {
   "attachments": {},
   "cell_type": "markdown",
   "metadata": {},
   "source": [
    "## Questions/remarks\n",
    "- We must test the **scalar equality** $u_i+v_j=c_{ij}$ multiple times, for now done with a tolerance of proximity but it's not very absolute and strong. How resolve? Solutions:\n",
    "    - Use integers by **rescaling**.(the more we rescale the slower it becomes)\n",
    "    - During the dual updating, **save the index** where the constrain is becoming active (by saving the argmin, see how to do it)\n",
    "    \n",
    "    -> it is indeed true with tolerance but wont affect the convergence of the algorithm neither the final output significantly\n",
    "\n",
    "- implementation of **sets** by **vectors**. Better by python sets?\n",
    "\n",
    "    -> we'll see, not so bad \n",
    "\n",
    "- describe the functionment of algorithm? a sketch of background?\n",
    "\n",
    "    -> yes, sketch the idea, describe the steps, invariants, stopping situation.\n",
    "\n",
    "- with floats, there is sometimes a small transgression of the dual feasibility, has been dealed by adding a tolerance `tol=1e-5`."
   ]
  }
 ],
 "metadata": {
  "kernelspec": {
   "display_name": "base",
   "language": "python",
   "name": "python3"
  },
  "language_info": {
   "codemirror_mode": {
    "name": "ipython",
    "version": 3
   },
   "file_extension": ".py",
   "mimetype": "text/x-python",
   "name": "python",
   "nbconvert_exporter": "python",
   "pygments_lexer": "ipython3",
   "version": "3.9.12"
  },
  "orig_nbformat": 4,
  "vscode": {
   "interpreter": {
    "hash": "233a531365d7bd5abb8382eb032c18c305e1c6b951add6f6a5c925475bc609cb"
   }
  }
 },
 "nbformat": 4,
 "nbformat_minor": 2
}

{
 "cells": [
  {
   "attachments": {},
   "cell_type": "markdown",
   "metadata": {},
   "source": [
    "# Use\n",
    "This notebook will be used to tests the functions of the python files"
   ]
  },
  {
   "cell_type": "code",
   "execution_count": 1,
   "metadata": {},
   "outputs": [],
   "source": [
    "import numpy as np\n",
    "import matplotlib.pyplot as plt\n",
    "import warnings\n",
    "from warnings import warn\n",
    "%load_ext autoreload\n",
    "%autoreload 2\n",
    "\n",
    "from hungarian import preprocess, alternate, hungarian, hungarian3, augment\n",
    "from transport import gaussian_transport, gaussian_discreatization\n",
    "\n",
    "rng = np.random.default_rng(4321)"
   ]
  },
  {
   "attachments": {},
   "cell_type": "markdown",
   "metadata": {},
   "source": [
    "# `hungarian.py`\n",
    "## `preprocess(C)`"
   ]
  },
  {
   "cell_type": "code",
   "execution_count": 112,
   "metadata": {},
   "outputs": [
    {
     "name": "stdout",
     "output_type": "stream",
     "text": [
      "[[0.36856808 0.         0.         0.03370433]\n",
      " [0.62630378 0.4918678  0.48321611 0.        ]\n",
      " [0.01827113 0.03172618 0.21937152 0.        ]\n",
      " [0.         0.15973672 0.52130587 0.72149736]] \n",
      " [[False  True False False]\n",
      " [False False False  True]\n",
      " [False False False False]\n",
      " [ True False False False]]\n"
     ]
    }
   ],
   "source": [
    "n=4\n",
    "C = np.random.random(size=(n,n))\n",
    "n,U,V,row,x = preprocess(C)\n",
    "print(C-U[:,np.newaxis]-V,\"\\n\",x)"
   ]
  },
  {
   "cell_type": "code",
   "execution_count": 113,
   "metadata": {},
   "outputs": [
    {
     "name": "stdout",
     "output_type": "stream",
     "text": [
      "[[0 0 1 2]\n",
      " [0 4 3 5]\n",
      " [0 3 5 8]\n",
      " [1 2 0 0]] [0 None 3 None] [7 2 1 2] [0 2 0 0] \n",
      " [[ True False False False]\n",
      " [False False False False]\n",
      " [False False False False]\n",
      " [False False  True False]]\n"
     ]
    }
   ],
   "source": [
    "# Exemple 4.3\n",
    "n=4\n",
    "C = np.array([[7,9,8,9],\n",
    "              [2,8,5,7],\n",
    "              [1,6,6,9],\n",
    "              [3,6,2,2]])\n",
    "n,U,V,row,x = preprocess(C)\n",
    "print(C-U[:,np.newaxis] - V, row, U, V,\"\\n\", x)"
   ]
  },
  {
   "attachments": {},
   "cell_type": "markdown",
   "metadata": {},
   "source": [
    "seem ok\n",
    "- The zero entries match the True entries\n",
    "- Internal assertions satisfied\n",
    "- Same results as exemple 4.3\n",
    "## `alternate(C,U,V,row,k)`"
   ]
  },
  {
   "cell_type": "code",
   "execution_count": 114,
   "metadata": {},
   "outputs": [
    {
     "name": "stdout",
     "output_type": "stream",
     "text": [
      "[2 1 0 None]\n",
      "3 [None None 3 0] [ True False False  True] [False False  True  True]\n",
      "[[2 4 0 0]\n",
      " [8 0 0 0]\n",
      " [0 2 6 2]\n",
      " [2 5 0 2]]\n"
     ]
    }
   ],
   "source": [
    "n=4\n",
    "C = np.random.randint(10,size=(n,n))\n",
    "n,U,V,row,x = preprocess(C)\n",
    "k=n-1\n",
    "if np.any(row==k):\n",
    "     print(\"Invalid candidate k, try again\")\n",
    "else:\n",
    "    sink,pred,SU,LV = alternate(C,U,V,row,k)\n",
    "    print(row)\n",
    "    print(sink,pred,SU,LV)\n",
    "    print(C-U[:,np.newaxis]-V)"
   ]
  },
  {
   "cell_type": "code",
   "execution_count": 115,
   "metadata": {},
   "outputs": [
    {
     "name": "stdout",
     "output_type": "stream",
     "text": [
      "1 [1 0 None None]\n"
     ]
    }
   ],
   "source": [
    "# Exemple 4.3\n",
    "n=4\n",
    "C = np.array([[7,9,8,9],\n",
    "              [2,8,6,7],\n",
    "              [1,6,6,9],\n",
    "              [3,6,2,2]])\n",
    "n,U,V,row,x = preprocess(C)\n",
    "k=1\n",
    "sink,pred,SU,LV = alternate(C,U,V,row,k)\n",
    "print(sink,pred)"
   ]
  },
  {
   "attachments": {},
   "cell_type": "markdown",
   "metadata": {},
   "source": [
    "## `hungarian(C)`"
   ]
  },
  {
   "cell_type": "code",
   "execution_count": 123,
   "metadata": {},
   "outputs": [
    {
     "name": "stdout",
     "output_type": "stream",
     "text": [
      "hungarian succed (feasibility and complementary slackness holds)\n",
      "[2 0 1 3] [1 2 0 3] [8 6 5 2] [-4  1  0  0]\n",
      "[[0 1 0 0]\n",
      " [0 0 1 0]\n",
      " [1 0 0 0]\n",
      " [0 0 0 1]]\n"
     ]
    }
   ],
   "source": [
    "# Exemple 4.3\n",
    "n=4\n",
    "C = np.array([[7,9,8,9],\n",
    "              [2,8,6,7],\n",
    "              [1,6,6,9],\n",
    "              [3,6,2,2]])\n",
    "row,x,phi,U,V,W = hungarian(C)\n",
    "print(row,phi,U,V)\n",
    "print(1*x)"
   ]
  },
  {
   "cell_type": "code",
   "execution_count": 137,
   "metadata": {},
   "outputs": [
    {
     "name": "stdout",
     "output_type": "stream",
     "text": [
      "hungarian succed (feasibility and complementary slackness holds)\n",
      "[8 0 3 2 7 1 4 9 5 6] [1 5 3 2 6 8 9 4 0 7] [2 2 3 2 2 2 1 4 2 2] [-1  1 -1 -1 -1 -1 -1  1  0  0]\n"
     ]
    }
   ],
   "source": [
    "# random integer\n",
    "n=10\n",
    "C = np.random.randint(1,10,(n,n))\n",
    "row,x,phi,U,V, W = hungarian(C)\n",
    "print(row,phi,U,V)"
   ]
  },
  {
   "cell_type": "code",
   "execution_count": null,
   "metadata": {},
   "outputs": [
    {
     "name": "stdout",
     "output_type": "stream",
     "text": [
      "hungarian succed (feasibility and complementary slackness holds)\n",
      "[[0.01054706 0.24504628 0.76277839 0.0345398 ]\n",
      " [0.66231447 0.90353101 0.45352086 0.8705936 ]\n",
      " [0.84658834 0.69153637 0.51450388 0.3896035 ]\n",
      " [0.01724784 0.99074631 0.8472189  0.87894342]]\n",
      "[[0.         0.         0.75223133 0.02399274]\n",
      " [0.20879361 0.21551092 0.         0.41707274]\n",
      " [0.45698484 0.06743365 0.12490038 0.        ]\n",
      " [0.         0.73899924 0.82997106 0.86169558]]\n",
      "[3 0 1 2] [1 2 3 0] [0.01054706 0.45352086 0.3896035  0.01724784] [0.         0.23449923 0.         0.        ]\n",
      "[[0 1 0 0]\n",
      " [0 0 1 0]\n",
      " [0 0 0 1]\n",
      " [1 0 0 0]]\n"
     ]
    }
   ],
   "source": [
    "# random gaussian\n",
    "n=4\n",
    "C = np.random.random(size=(n,n))\n",
    "row,x,phi,U,V,W = hungarian(C)\n",
    "print(C)\n",
    "print(C-U[:,np.newaxis]-V)\n",
    "print(row,phi,U,V)\n",
    "print(1*x)"
   ]
  },
  {
   "cell_type": "code",
   "execution_count": null,
   "metadata": {},
   "outputs": [
    {
     "name": "stdout",
     "output_type": "stream",
     "text": [
      "hungarian succed (feasibility and complementary slackness holds)\n"
     ]
    }
   ],
   "source": [
    "# random gaussian\n",
    "n=10\n",
    "d=10\n",
    "a=np.random.randn(d,n)\n",
    "b=np.random.randn(d,n)\n",
    "C = np.sum((a[:,:,np.newaxis]-b[:,np.newaxis,:])**2,axis=0)\n",
    "#print(C)\n",
    "row,x,phi,U,V,W = hungarian(C)\n",
    "#print(C-U[:,np.newaxis]-V)\n",
    "#print(row,phi,U,V)\n",
    "#print(1*x)"
   ]
  },
  {
   "attachments": {},
   "cell_type": "markdown",
   "metadata": {},
   "source": [
    "## Questions/remarks\n",
    "- We must test the **scalar equality** $u_i+v_j=c_{ij}$ multiple times, for now done with a tolerance of proximity but it's not very absolute and strong. How resolve? Solutions:\n",
    "    - Use integers by **rescaling**.(the more we rescale the slower it becomes)\n",
    "    - During the dual updating, **save the index** where the constrain is becoming active (by saving the argmin, see how to do it)\n",
    "    \n",
    "    -> it is indeed true with tolerance but wont affect the convergence of the algorithm neither the final output significantly\n",
    "\n",
    "- implementation of **sets** by **vectors**. Better by python sets?\n",
    "\n",
    "    -> we'll see, not so bad \n",
    "\n",
    "- describe the functionment of algorithm? a sketch of background?\n",
    "\n",
    "    -> yes, sketch the idea, describe the steps, invariants, stopping situation.\n",
    "\n",
    "- with floats, there is sometimes a small transgression of the dual feasibility, has been dealed by adding a tolerance `tol=1e-5`.\n",
    "\n",
    "## `augment()`"
   ]
  },
  {
   "cell_type": "code",
   "execution_count": 112,
   "metadata": {},
   "outputs": [
    {
     "name": "stdout",
     "output_type": "stream",
     "text": [
      "Invalid candidate k, try again\n"
     ]
    }
   ],
   "source": [
    "n=4\n",
    "C = np.random.randint(10,size=(n,n))\n",
    "n,U,V,row,x = preprocess(C)\n",
    "k=n-1\n",
    "if np.any(row==k):\n",
    "     print(\"Invalid candidate k, try again\")\n",
    "else:\n",
    "    sink,pred,U,V = augment(C,U,V,row,k)\n",
    "    print(sink,pred,U,V)\n",
    "    print(C-U[:,np.newaxis]-V)"
   ]
  },
  {
   "attachments": {},
   "cell_type": "markdown",
   "metadata": {},
   "source": [
    "## `hungarian3()`"
   ]
  },
  {
   "cell_type": "code",
   "execution_count": 79,
   "metadata": {},
   "outputs": [
    {
     "name": "stdout",
     "output_type": "stream",
     "text": [
      "hungarian3 succed (feasibility and complementary slackness holds)\n",
      "[1 2 0 3] [2 0 1 3] [8 6 5 2] [-4  1  0  0]\n",
      "[[0 0 1 0]\n",
      " [1 0 0 0]\n",
      " [0 1 0 0]\n",
      " [0 0 0 1]]\n"
     ]
    }
   ],
   "source": [
    "# Exemple 4.3\n",
    "n=4\n",
    "C = np.array([[7,9,8,9],\n",
    "              [2,8,6,7],\n",
    "              [1,6,6,9],\n",
    "              [3,6,2,2]])\n",
    "row,x,phi,U,V,W = hungarian3(C)\n",
    "print(row,phi,U,V)\n",
    "print(1*x)"
   ]
  },
  {
   "cell_type": "code",
   "execution_count": 122,
   "metadata": {},
   "outputs": [
    {
     "name": "stdout",
     "output_type": "stream",
     "text": [
      "hungarian3 succed (feasibility and complementary slackness holds)\n"
     ]
    }
   ],
   "source": [
    "n=100\n",
    "C = np.random.randint(10,size=(n,n))\n",
    "row,x,phi,U,V,W = hungarian3(C)"
   ]
  },
  {
   "attachments": {},
   "cell_type": "markdown",
   "metadata": {},
   "source": [
    "# `transport.py`\n",
    "## `gaussian_transport()`"
   ]
  },
  {
   "cell_type": "code",
   "execution_count": 139,
   "metadata": {},
   "outputs": [
    {
     "name": "stdout",
     "output_type": "stream",
     "text": [
      "The autoreload extension is already loaded. To reload it, use:\n",
      "  %reload_ext autoreload\n"
     ]
    }
   ],
   "source": [
    "%load_ext autoreload\n",
    "%autoreload 2\n",
    "import matplotlib.pyplot as plt\n",
    "from transport import gaussian_transport, gaussian_discreatization\n",
    "rng = np.random.default_rng(4321)"
   ]
  },
  {
   "cell_type": "code",
   "execution_count": 145,
   "metadata": {},
   "outputs": [
    {
     "data": {
      "text/plain": [
       "Text(0.5, 1.0, 'Gaussian discretization, cond(cov2)=2.474799938877613')"
      ]
     },
     "execution_count": 145,
     "metadata": {},
     "output_type": "execute_result"
    },
    {
     "data": {
      "image/png": "[encoded data removed]",
      "text/plain": [
       "<Figure size 432x288 with 1 Axes>"
      ]
     },
     "metadata": {
      "needs_background": "light"
     },
     "output_type": "display_data"
    },
    {
     "data": {
      "image/png": "[encoded data removed]",
      "text/plain": [
       "<Figure size 432x288 with 1 Axes>"
      ]
     },
     "metadata": {
      "needs_background": "light"
     },
     "output_type": "display_data"
    }
   ],
   "source": [
    "d = 2\n",
    "n=100\n",
    "mean1, mean2 = rng.normal(size=d), rng.normal(size=d)\n",
    "A1, A2 = rng.normal(size=(d,d)), rng.normal(size=(d,d))\n",
    "ii=np.arange(d)\n",
    "jj=np.arange(d)[:,np.newaxis]\n",
    "A1[ii-jj<0] = 0\n",
    "A1[ii-jj==0] = np.abs(A1[ii-jj==0])\n",
    "\n",
    "cov1, cov2 = A1.T @ A1, A2.T @ A2\n",
    "transport, W_true = gaussian_transport(mean1, cov1, mean2, cov2)\n",
    "mu, nu, C = gaussian_discreatization(mean1, cov1, mean2, cov2, n, rng)\n",
    "\n",
    "plt.plot(mu[:,0],mu[:,1],'.')\n",
    "plt.title(\"Gaussian discretization, cond(cov1)=\"+str(np.linalg.cond(cov1)))\n",
    "plt.figure()\n",
    "plt.plot(nu[:,0],nu[:,1],'.')\n",
    "plt.title(\"Gaussian discretization, cond(cov2)=\"+str(np.linalg.cond(cov2)))"
   ]
  },
  {
   "cell_type": "code",
   "execution_count": 150,
   "metadata": {},
   "outputs": [
    {
     "ename": "AssertionError",
     "evalue": "complementary stackness not satisfied",
     "output_type": "error",
     "traceback": [
      "\u001b[0;31m---------------------------------------------------------------------------\u001b[0m",
      "\u001b[0;31mAssertionError\u001b[0m                            Traceback (most recent call last)",
      "\u001b[1;32m/Users/benoitmuller/Documents/EPFL/Computational-Optimal-Transport/tests.ipynb Cell 22\u001b[0m in \u001b[0;36m<cell line: 1>\u001b[0;34m()\u001b[0m\n\u001b[0;32m----> <a href='vscode-notebook-cell:/Users/benoitmuller/Documents/EPFL/Computational-Optimal-Transport/tests.ipynb#X25sZmlsZQ%3D%3D?line=0'>1</a>\u001b[0m row,x,phi,U,V, W_hungarian \u001b[39m=\u001b[39m hungarian3(C,tol\u001b[39m=\u001b[39;49m\u001b[39m1e-2\u001b[39;49m)\n",
      "File \u001b[0;32m~/Documents/EPFL/Computational-Optimal-Transport/hungarian.py:200\u001b[0m, in \u001b[0;36mhungarian3\u001b[0;34m(C, tol, disp)\u001b[0m\n\u001b[1;32m    198\u001b[0m \u001b[39massert\u001b[39;00m \u001b[39mnot\u001b[39;00m np\u001b[39m.\u001b[39many(np\u001b[39m.\u001b[39msort(row) \u001b[39m-\u001b[39m np\u001b[39m.\u001b[39marange(n)), \u001b[39m\"\u001b[39m\u001b[39mprimal variables not feasible\u001b[39m\u001b[39m\"\u001b[39m\n\u001b[1;32m    199\u001b[0m \u001b[39massert\u001b[39;00m np\u001b[39m.\u001b[39mall(U[:,np\u001b[39m.\u001b[39mnewaxis] \u001b[39m+\u001b[39m V \u001b[39m<\u001b[39m\u001b[39m=\u001b[39m C \u001b[39m+\u001b[39m tol), \u001b[39m\"\u001b[39m\u001b[39mdual variables not feasible, with transgression \u001b[39m\u001b[39m\"\u001b[39m \u001b[39m+\u001b[39m \u001b[39mstr\u001b[39m(np\u001b[39m.\u001b[39mmin(C\u001b[39m-\u001b[39mU[:,np\u001b[39m.\u001b[39mnewaxis] \u001b[39m-\u001b[39m V))\n\u001b[0;32m--> 200\u001b[0m \u001b[39massert\u001b[39;00m \u001b[39mnot\u001b[39;00m np\u001b[39m.\u001b[39many((\u001b[39m1\u001b[39m\u001b[39m-\u001b[39mnp\u001b[39m.\u001b[39misclose(U[:,np\u001b[39m.\u001b[39mnewaxis]\u001b[39m+\u001b[39mV,C)) \u001b[39m*\u001b[39m x), \u001b[39m\"\u001b[39m\u001b[39mcomplementary stackness not satisfied\u001b[39m\u001b[39m\"\u001b[39m\n\u001b[1;32m    201\u001b[0m \u001b[39mif\u001b[39;00m disp \u001b[39m==\u001b[39m \u001b[39mTrue\u001b[39;00m:\n\u001b[1;32m    202\u001b[0m     \u001b[39mprint\u001b[39m(\u001b[39m\"\u001b[39m\u001b[39mhungarian3 succed (feasibility and complementary slackness holds)\u001b[39m\u001b[39m\"\u001b[39m)\n",
      "\u001b[0;31mAssertionError\u001b[0m: complementary stackness not satisfied"
     ]
    }
   ],
   "source": [
    "row,x,phi,U,V, W_hungarian = hungarian3(C,tol=1e-2)"
   ]
  },
  {
   "cell_type": "code",
   "execution_count": 144,
   "metadata": {},
   "outputs": [
    {
     "name": "stdout",
     "output_type": "stream",
     "text": [
      "W_true = 5.59265778171407\n",
      "W_hungarian = 3.8697309370806128\n",
      "Error = -1.7229268446334576\n",
      "cond(cov1)= 322.1031857115007 cond(cov12)= 71.68274720995176\n"
     ]
    },
    {
     "data": {
      "image/png": "[encoded data removed]",
      "text/plain": [
       "<Figure size 432x288 with 1 Axes>"
      ]
     },
     "metadata": {
      "needs_background": "light"
     },
     "output_type": "display_data"
    }
   ],
   "source": [
    "print(\"W_true =\",W_true)\n",
    "#transported_mu = np.array([transport(mu[:,i] for i in range(n))]).T\n",
    "#W_true_discretized = np.sum((mu[:,np.newaxis,:] - transported_mu)**2, axis=2) / n\n",
    "print(\"W_hungarian =\",W_hungarian)\n",
    "print(\"Error =\",W_hungarian-W_true)\n",
    "print(\"cond(cov1)=\",np.linalg.cond(cov1),\"cond(cov12)=\",np.linalg.cond(cov2))\n",
    "for i in range(n):\n",
    "    plt.plot([mu[i,0],nu[phi[i],0]],[mu[i,1],nu[phi[i],1]],'blue')"
   ]
  }
 ],
 "metadata": {
  "kernelspec": {
   "display_name": "base",
   "language": "python",
   "name": "python3"
  },
  "language_info": {
   "codemirror_mode": {
    "name": "ipython",
    "version": 3
   },
   "file_extension": ".py",
   "mimetype": "text/x-python",
   "name": "python",
   "nbconvert_exporter": "python",
   "pygments_lexer": "ipython3",
   "version": "3.9.12"
  },
  "orig_nbformat": 4,
  "vscode": {
   "interpreter": {
    "hash": "233a531365d7bd5abb8382eb032c18c305e1c6b951add6f6a5c925475bc609cb"
   }
  }
 },
 "nbformat": 4,
 "nbformat_minor": 2
}

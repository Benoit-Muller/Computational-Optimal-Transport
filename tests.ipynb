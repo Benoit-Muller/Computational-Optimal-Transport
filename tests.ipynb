{
 "cells": [
  {
   "attachments": {},
   "cell_type": "markdown",
   "metadata": {},
   "source": [
    "# Use\n",
    "This notebook will be used to tests the functions of the python files"
   ]
  },
  {
   "cell_type": "code",
   "execution_count": 229,
   "metadata": {},
   "outputs": [
    {
     "name": "stdout",
     "output_type": "stream",
     "text": [
      "The autoreload extension is already loaded. To reload it, use:\n",
      "  %reload_ext autoreload\n"
     ]
    }
   ],
   "source": [
    "import numpy as np\n",
    "import warnings\n",
    "%load_ext autoreload\n",
    "%autoreload 2\n",
    "from hungarian import preprocess, alternate, hungarian"
   ]
  },
  {
   "attachments": {},
   "cell_type": "markdown",
   "metadata": {},
   "source": [
    "## Test of `preprocess(C)`"
   ]
  },
  {
   "cell_type": "code",
   "execution_count": 230,
   "metadata": {},
   "outputs": [
    {
     "name": "stdout",
     "output_type": "stream",
     "text": [
      "[[0.04099524 0.71312632 0.         0.        ]\n",
      " [0.13421323 0.         0.31843028 0.97785158]\n",
      " [0.09460212 0.         0.15851638 0.41010239]\n",
      " [0.         0.3728614  0.050814   0.32254943]] \n",
      " [[False False  True False]\n",
      " [False  True False False]\n",
      " [False False False False]\n",
      " [ True False False False]]\n"
     ]
    }
   ],
   "source": [
    "n=4\n",
    "C = np.random.random(size=(n,n))\n",
    "n,U,V,row,x = preprocess(C)\n",
    "print(C-U[:,np.newaxis]-V,\"\\n\",x)"
   ]
  },
  {
   "cell_type": "code",
   "execution_count": 231,
   "metadata": {},
   "outputs": [
    {
     "name": "stdout",
     "output_type": "stream",
     "text": [
      "[[0 0 1 2]\n",
      " [0 4 3 5]\n",
      " [0 3 5 8]\n",
      " [1 2 0 0]] [0 None 3 None] [7 2 1 2] [0 2 0 0] \n",
      " [[ True False False False]\n",
      " [False False False False]\n",
      " [False False False False]\n",
      " [False False  True False]]\n"
     ]
    }
   ],
   "source": [
    "# Exemple 4.3\n",
    "n=4\n",
    "C = np.array([[7,9,8,9],\n",
    "              [2,8,5,7],\n",
    "              [1,6,6,9],\n",
    "              [3,6,2,2]])\n",
    "n,U,V,row,x = preprocess(C)\n",
    "print(C-U[:,np.newaxis] - V, row, U, V,\"\\n\", x)"
   ]
  },
  {
   "attachments": {},
   "cell_type": "markdown",
   "metadata": {},
   "source": [
    "seem ok\n",
    "- The zero entries match the True entries\n",
    "- Internal assertions satisfied\n",
    "- Same results as exemple 4.3\n",
    "## Test of `alternate(C,U,V,row,k)`"
   ]
  },
  {
   "cell_type": "code",
   "execution_count": 232,
   "metadata": {},
   "outputs": [
    {
     "name": "stdout",
     "output_type": "stream",
     "text": [
      "Invalid candidate k, try again\n"
     ]
    }
   ],
   "source": [
    "n=4\n",
    "C = np.random.randint(10,size=(n,n))\n",
    "n,U,V,row,x = preprocess(C)\n",
    "k=n-1\n",
    "if np.any(row==k):\n",
    "     print(\"Invalid candidate k, try again\")\n",
    "else:\n",
    "    sink,pred,SU,LV = alternate(C,U,V,row,k)\n",
    "    print(row)\n",
    "    print(sink,pred,SU,LV)\n",
    "    print(C-U[:,np.newaxis]-V)"
   ]
  },
  {
   "cell_type": "code",
   "execution_count": 233,
   "metadata": {},
   "outputs": [
    {
     "name": "stdout",
     "output_type": "stream",
     "text": [
      "1 [1 0 None None]\n"
     ]
    }
   ],
   "source": [
    "# Exemple 4.3\n",
    "n=4\n",
    "C = np.array([[7,9,8,9],\n",
    "              [2,8,6,7],\n",
    "              [1,6,6,9],\n",
    "              [3,6,2,2]])\n",
    "n,U,V,row,x = preprocess(C)\n",
    "k=1\n",
    "sink,pred,SU,LV = alternate(C,U,V,row,k)\n",
    "print(sink,pred)"
   ]
  },
  {
   "attachments": {},
   "cell_type": "markdown",
   "metadata": {},
   "source": [
    "## Tests of `hungarian(C)`"
   ]
  },
  {
   "cell_type": "code",
   "execution_count": 234,
   "metadata": {},
   "outputs": [
    {
     "name": "stdout",
     "output_type": "stream",
     "text": [
      "hungarian succed (feasibility and complementary slackness holds)\n",
      "[2 0 1 3] [1 2 0 3] [8 6 5 2] [-4  1  0  0]\n",
      "[[0 1 0 0]\n",
      " [0 0 1 0]\n",
      " [1 0 0 0]\n",
      " [0 0 0 1]]\n"
     ]
    }
   ],
   "source": [
    "# Exemple 4.3\n",
    "n=4\n",
    "C = np.array([[7,9,8,9],\n",
    "              [2,8,6,7],\n",
    "              [1,6,6,9],\n",
    "              [3,6,2,2]])\n",
    "row,x,phi,U,V = hungarian(C)\n",
    "print(row,phi,U,V)\n",
    "print(1*x)"
   ]
  },
  {
   "cell_type": "code",
   "execution_count": 275,
   "metadata": {},
   "outputs": [
    {
     "name": "stdout",
     "output_type": "stream",
     "text": [
      "hungarian succed (feasibility and complementary slackness holds)\n",
      "[1 3 5 9 4 2 8 7 6 0] [9 0 5 1 4 2 8 7 6 3] [0 1 0 0 0 4 1 2 1 2] [-1  1  0 -1  1  0  0  0 -1  0]\n",
      "[[0 0 0 0 0 0 0 0 0 1]\n",
      " [1 0 0 0 0 0 0 0 0 0]\n",
      " [0 0 0 0 0 1 0 0 0 0]\n",
      " [0 1 0 0 0 0 0 0 0 0]\n",
      " [0 0 0 0 1 0 0 0 0 0]\n",
      " [0 0 1 0 0 0 0 0 0 0]\n",
      " [0 0 0 0 0 0 0 0 1 0]\n",
      " [0 0 0 0 0 0 0 1 0 0]\n",
      " [0 0 0 0 0 0 1 0 0 0]\n",
      " [0 0 0 1 0 0 0 0 0 0]]\n"
     ]
    }
   ],
   "source": [
    "# random integer\n",
    "n=10\n",
    "C = np.random.randint(0,10,(n,n))\n",
    "row,x,phi,U,V = hungarian(C)\n",
    "print(row,phi,U,V)\n",
    "print(1*x)"
   ]
  },
  {
   "cell_type": "code",
   "execution_count": 261,
   "metadata": {},
   "outputs": [
    {
     "name": "stdout",
     "output_type": "stream",
     "text": [
      "hungarian succed (feasibility and complementary slackness holds)\n",
      "[[0.19089889 0.36030293 0.4244699  0.40219438]\n",
      " [0.73102179 0.62626495 0.1425945  0.62521685]\n",
      " [0.63197301 0.58546574 0.84839769 0.62939854]\n",
      " [0.64763894 0.67083242 0.24680277 0.53797185]]\n",
      "[[0.         0.16940404 0.48080729 0.16736269]\n",
      " [0.34119102 0.23643417 0.         0.19145327]\n",
      " [0.04650728 0.         0.51016823 0.        ]\n",
      " [0.15359989 0.17679337 0.         0.        ]]\n",
      "[0 2 1 3] [0 2 1 3] [0.19089889 0.38983078 0.58546574 0.49403905] [ 0.          0.         -0.24723628  0.04393281]\n",
      "[[1 0 0 0]\n",
      " [0 0 1 0]\n",
      " [0 1 0 0]\n",
      " [0 0 0 1]]\n"
     ]
    }
   ],
   "source": [
    "# random gaussian\n",
    "n=4\n",
    "C = np.random.random(size=(n,n))\n",
    "row,x,phi,U,V = hungarian(C)\n",
    "print(C)\n",
    "print(C-U[:,np.newaxis]-V)\n",
    "print(row,phi,U,V)\n",
    "print(1*x)"
   ]
  },
  {
   "attachments": {},
   "cell_type": "markdown",
   "metadata": {},
   "source": [
    "## Questions/remarks\n",
    "- We must test the **scalar equality** $u_i+v_j=c_{ij}$ multiple times, for now done with a tolerance of proximity but it's not very absolute and strong. How resolve? Solutions:\n",
    "    - Use integers by **rescaling**.(the more we rescale the slower it becomes)\n",
    "    - During the dual updating, **save the index** where the constrain is becoming active (by saving the argmin, see how to do it)\n",
    "    \n",
    "    -> it is indeed true with tolerance but wont affect the convergence of the algorithm neither the final output significantly\n",
    "\n",
    "- implementation of **sets** by **vectors**. Better by python sets?\n",
    "\n",
    "    -> we'll see, not so bad \n",
    "\n",
    "- describe the functionment of algorithm? a sketch of background?\n",
    "\n",
    "    -> yes, sketch the idea, describe the steps, invariants, stopping situation."
   ]
  }
 ],
 "metadata": {
  "kernelspec": {
   "display_name": "base",
   "language": "python",
   "name": "python3"
  },
  "language_info": {
   "codemirror_mode": {
    "name": "ipython",
    "version": 3
   },
   "file_extension": ".py",
   "mimetype": "text/x-python",
   "name": "python",
   "nbconvert_exporter": "python",
   "pygments_lexer": "ipython3",
   "version": "3.9.12"
  },
  "orig_nbformat": 4,
  "vscode": {
   "interpreter": {
    "hash": "233a531365d7bd5abb8382eb032c18c305e1c6b951add6f6a5c925475bc609cb"
   }
  }
 },
 "nbformat": 4,
 "nbformat_minor": 2
}

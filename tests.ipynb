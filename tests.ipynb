{
 "cells": [
  {
   "attachments": {},
   "cell_type": "markdown",
   "metadata": {},
   "source": [
    "# Use\n",
    "This notebook will be used to tests the functions of the python files"
   ]
  },
  {
   "cell_type": "code",
   "execution_count": 1,
   "metadata": {},
   "outputs": [],
   "source": [
    "import numpy as np\n",
    "%load_ext autoreload\n",
    "%autoreload 2\n",
    "from hungarian import preprocess,alternate"
   ]
  },
  {
   "cell_type": "code",
   "execution_count": 14,
   "metadata": {},
   "outputs": [
    {
     "name": "stdout",
     "output_type": "stream",
     "text": [
      "[[0.         0.27152291 0.43484795 0.03720574]\n",
      " [0.20077081 0.         0.06680863 0.73624373]\n",
      " [0.23960353 0.27412783 0.12009029 0.        ]\n",
      " [0.93341034 0.4901605  0.         0.57326936]] \n",
      " [[ True False False False]\n",
      " [False  True False False]\n",
      " [False False False  True]\n",
      " [False False  True False]]\n"
     ]
    }
   ],
   "source": [
    "n=4\n",
    "C = np.array([[0.55035163, 0.82187454, 0.98519958, 0.58755737],\n",
    " [0.21229879, 0.01152798, 0.07833661, 0.74777171],\n",
    " [0.4747819,  0.5093062,  0.35526866, 0.23517837],\n",
    " [0.9345975,  0.49134766, 0.00118716, 0.57445652]])\n",
    " # np.random.random(size=(n,n))\n",
    "n,U,V,row,x = preprocess(C)\n",
    "print(C-U[:,np.newaxis]-V,\"\\n\",x)"
   ]
  },
  {
   "attachments": {},
   "cell_type": "markdown",
   "metadata": {},
   "source": [
    "Ok, the zero entries match the True entries."
   ]
  }
 ],
 "metadata": {
  "kernelspec": {
   "display_name": "base",
   "language": "python",
   "name": "python3"
  },
  "language_info": {
   "codemirror_mode": {
    "name": "ipython",
    "version": 3
   },
   "file_extension": ".py",
   "mimetype": "text/x-python",
   "name": "python",
   "nbconvert_exporter": "python",
   "pygments_lexer": "ipython3",
   "version": "3.9.12"
  },
  "orig_nbformat": 4,
  "vscode": {
   "interpreter": {
    "hash": "233a531365d7bd5abb8382eb032c18c305e1c6b951add6f6a5c925475bc609cb"
   }
  }
 },
 "nbformat": 4,
 "nbformat_minor": 2
}
